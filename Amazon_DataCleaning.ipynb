{
 "cells": [
  {
   "cell_type": "markdown",
   "metadata": {},
   "source": [
    "# Amazon Top Selling Products – Data Cleaning"
   ]
  },
  {
   "cell_type": "code",
   "execution_count": 1,
   "metadata": {},
   "outputs": [],
   "source": [
    "# import libraries\n",
    "import numpy as np\n",
    "import pandas as pd\n",
    "import matplotlib.pyplot as plt\n",
    "import seaborn as sns\n",
    "import nltk"
   ]
  },
  {
   "cell_type": "code",
   "execution_count": 2,
   "metadata": {},
   "outputs": [],
   "source": [
    "# loading the data\n",
    "amazon_data = pd.read_csv('amazon_data.csv')"
   ]
  },
  {
   "cell_type": "code",
   "execution_count": 3,
   "metadata": {},
   "outputs": [
    {
     "data": {
      "text/plain": [
       "Index(['ASIN', 'category', 'links', 'title', 'price', 'image url', 'rating',\n",
       "       'No of reviews'],\n",
       "      dtype='object')"
      ]
     },
     "execution_count": 3,
     "metadata": {},
     "output_type": "execute_result"
    }
   ],
   "source": [
    "amazon_data.columns"
   ]
  },
  {
   "cell_type": "code",
   "execution_count": 4,
   "metadata": {},
   "outputs": [],
   "source": [
    "# dropping columns that aren't of use to the analysis\n",
    "amazon_data.drop(columns=['ASIN', 'links', 'image url'], inplace=True)"
   ]
  },
  {
   "cell_type": "code",
   "execution_count": 5,
   "metadata": {},
   "outputs": [
    {
     "name": "stdout",
     "output_type": "stream",
     "text": [
      "<class 'pandas.core.frame.DataFrame'>\n",
      "RangeIndex: 2252677 entries, 0 to 2252676\n",
      "Data columns (total 5 columns):\n",
      " #   Column         Dtype \n",
      "---  ------         ----- \n",
      " 0   category       object\n",
      " 1   title          object\n",
      " 2   price          object\n",
      " 3   rating         object\n",
      " 4   No of reviews  object\n",
      "dtypes: object(5)\n",
      "memory usage: 85.9+ MB\n"
     ]
    }
   ],
   "source": [
    "amazon_data.info()"
   ]
  },
  {
   "cell_type": "code",
   "execution_count": 6,
   "metadata": {},
   "outputs": [
    {
     "data": {
      "text/html": [
       "<div>\n",
       "<style scoped>\n",
       "    .dataframe tbody tr th:only-of-type {\n",
       "        vertical-align: middle;\n",
       "    }\n",
       "\n",
       "    .dataframe tbody tr th {\n",
       "        vertical-align: top;\n",
       "    }\n",
       "\n",
       "    .dataframe thead th {\n",
       "        text-align: right;\n",
       "    }\n",
       "</style>\n",
       "<table border=\"1\" class=\"dataframe\">\n",
       "  <thead>\n",
       "    <tr style=\"text-align: right;\">\n",
       "      <th></th>\n",
       "      <th>category</th>\n",
       "      <th>title</th>\n",
       "      <th>price</th>\n",
       "      <th>rating</th>\n",
       "      <th>No of reviews</th>\n",
       "    </tr>\n",
       "  </thead>\n",
       "  <tbody>\n",
       "    <tr>\n",
       "      <th>0</th>\n",
       "      <td>Any Department/Home &amp; Kitchen/ Irons &amp; Steamers</td>\n",
       "      <td>\\n            Hilife Steamer for Clothes Steam...</td>\n",
       "      <td>$24.99</td>\n",
       "      <td>4.4 out of 5 stars</td>\n",
       "      <td>15,233</td>\n",
       "    </tr>\n",
       "    <tr>\n",
       "      <th>1</th>\n",
       "      <td>Any Department/Home &amp; Kitchen/ Irons &amp; Steamers</td>\n",
       "      <td>\\n            Professional Grade 1700W Steam I...</td>\n",
       "      <td>$39.97</td>\n",
       "      <td>4.5 out of 5 stars</td>\n",
       "      <td>9,726</td>\n",
       "    </tr>\n",
       "    <tr>\n",
       "      <th>2</th>\n",
       "      <td>Any Department/Home &amp; Kitchen/ Irons &amp; Steamers</td>\n",
       "      <td>\\n            Homz T Leg Ironing Board Holder,...</td>\n",
       "      <td>$1.99 $64.78</td>\n",
       "      <td>4.4 out of 5 stars</td>\n",
       "      <td>2,796</td>\n",
       "    </tr>\n",
       "    <tr>\n",
       "      <th>3</th>\n",
       "      <td>Any Department/Home &amp; Kitchen/ Irons &amp; Steamers</td>\n",
       "      <td>\\n            OGHom Steamer for Clothes Steame...</td>\n",
       "      <td>$16.99 $18.99</td>\n",
       "      <td>4.6 out of 5 stars</td>\n",
       "      <td>6,573</td>\n",
       "    </tr>\n",
       "    <tr>\n",
       "      <th>4</th>\n",
       "      <td>Any Department/Home &amp; Kitchen/ Irons &amp; Steamers</td>\n",
       "      <td>\\n            BEAUTURAL Steamer for Clothes wi...</td>\n",
       "      <td>$32.97 $39.97</td>\n",
       "      <td>4.4 out of 5 stars</td>\n",
       "      <td>8,223</td>\n",
       "    </tr>\n",
       "  </tbody>\n",
       "</table>\n",
       "</div>"
      ],
      "text/plain": [
       "                                          category  \\\n",
       "0  Any Department/Home & Kitchen/ Irons & Steamers   \n",
       "1  Any Department/Home & Kitchen/ Irons & Steamers   \n",
       "2  Any Department/Home & Kitchen/ Irons & Steamers   \n",
       "3  Any Department/Home & Kitchen/ Irons & Steamers   \n",
       "4  Any Department/Home & Kitchen/ Irons & Steamers   \n",
       "\n",
       "                                               title          price  \\\n",
       "0  \\n            Hilife Steamer for Clothes Steam...         $24.99   \n",
       "1  \\n            Professional Grade 1700W Steam I...         $39.97   \n",
       "2  \\n            Homz T Leg Ironing Board Holder,...   $1.99 $64.78   \n",
       "3  \\n            OGHom Steamer for Clothes Steame...  $16.99 $18.99   \n",
       "4  \\n            BEAUTURAL Steamer for Clothes wi...  $32.97 $39.97   \n",
       "\n",
       "               rating No of reviews  \n",
       "0  4.4 out of 5 stars        15,233  \n",
       "1  4.5 out of 5 stars         9,726  \n",
       "2  4.4 out of 5 stars         2,796  \n",
       "3  4.6 out of 5 stars         6,573  \n",
       "4  4.4 out of 5 stars         8,223  "
      ]
     },
     "execution_count": 6,
     "metadata": {},
     "output_type": "execute_result"
    }
   ],
   "source": [
    "amazon_data.head()"
   ]
  },
  {
   "cell_type": "markdown",
   "metadata": {},
   "source": [
    "## Creating a Random Subset of the Dataset"
   ]
  },
  {
   "cell_type": "markdown",
   "metadata": {},
   "source": [
    "The Dataset contains over 2 millions rows. To optimize the code run time, let us create a subset of this dataset with 100,000 rows."
   ]
  },
  {
   "cell_type": "code",
   "execution_count": 7,
   "metadata": {},
   "outputs": [],
   "source": [
    "amazon = amazon_data.sample(n=10000)\n",
    "\n",
    "# resetting the index\n",
    "amazon = amazon.reset_index(drop=True)"
   ]
  },
  {
   "cell_type": "code",
   "execution_count": 8,
   "metadata": {},
   "outputs": [
    {
     "data": {
      "text/html": [
       "<div>\n",
       "<style scoped>\n",
       "    .dataframe tbody tr th:only-of-type {\n",
       "        vertical-align: middle;\n",
       "    }\n",
       "\n",
       "    .dataframe tbody tr th {\n",
       "        vertical-align: top;\n",
       "    }\n",
       "\n",
       "    .dataframe thead th {\n",
       "        text-align: right;\n",
       "    }\n",
       "</style>\n",
       "<table border=\"1\" class=\"dataframe\">\n",
       "  <thead>\n",
       "    <tr style=\"text-align: right;\">\n",
       "      <th></th>\n",
       "      <th>category</th>\n",
       "      <th>title</th>\n",
       "      <th>price</th>\n",
       "      <th>rating</th>\n",
       "      <th>No of reviews</th>\n",
       "    </tr>\n",
       "  </thead>\n",
       "  <tbody>\n",
       "    <tr>\n",
       "      <th>0</th>\n",
       "      <td>Any Department/Kitchen &amp; Dining/Kitchen Utensi...</td>\n",
       "      <td>\\n            Leifheit Comfortline Gourmet Gar...</td>\n",
       "      <td>$15.99</td>\n",
       "      <td>4.4 out of 5 stars</td>\n",
       "      <td>403</td>\n",
       "    </tr>\n",
       "    <tr>\n",
       "      <th>1</th>\n",
       "      <td>Any Department/Health &amp; Household/House Suppli...</td>\n",
       "      <td>\\n            Food Grade Mineral Oil for Cutti...</td>\n",
       "      <td>$9.65 $29.95</td>\n",
       "      <td>4.9 out of 5 stars</td>\n",
       "      <td>321</td>\n",
       "    </tr>\n",
       "    <tr>\n",
       "      <th>2</th>\n",
       "      <td>Any Department/Automotive/RV Parts &amp; Accessori...</td>\n",
       "      <td>\\n            SRRB Direct 1139/1383 LED Replac...</td>\n",
       "      <td>$11.99 $19.99</td>\n",
       "      <td>4.4 out of 5 stars</td>\n",
       "      <td>321</td>\n",
       "    </tr>\n",
       "    <tr>\n",
       "      <th>3</th>\n",
       "      <td>Any Department/Toys &amp; Games/Hobbies/Trains &amp; A...</td>\n",
       "      <td>\\n            Bachmann Industries 50' Sliding ...</td>\n",
       "      <td>$53.99</td>\n",
       "      <td>4.5 out of 5 stars</td>\n",
       "      <td>9</td>\n",
       "    </tr>\n",
       "    <tr>\n",
       "      <th>4</th>\n",
       "      <td>Any Department/Sports &amp; Outdoors/Outdoor Recre...</td>\n",
       "      <td>\\n            Unisex Cycling Cap Breathable An...</td>\n",
       "      <td>$29.95</td>\n",
       "      <td>4.0 out of 5 stars</td>\n",
       "      <td>11</td>\n",
       "    </tr>\n",
       "    <tr>\n",
       "      <th>...</th>\n",
       "      <td>...</td>\n",
       "      <td>...</td>\n",
       "      <td>...</td>\n",
       "      <td>...</td>\n",
       "      <td>...</td>\n",
       "    </tr>\n",
       "    <tr>\n",
       "      <th>9995</th>\n",
       "      <td>Any Department/Sports &amp; Outdoors/Fan Shop/Home...</td>\n",
       "      <td>\\n            GTEI Dallas Cowboys Desk Lamp\\n ...</td>\n",
       "      <td>$39.99</td>\n",
       "      <td>4.1 out of 5 stars</td>\n",
       "      <td>6</td>\n",
       "    </tr>\n",
       "    <tr>\n",
       "      <th>9996</th>\n",
       "      <td>Any Department/Beauty &amp; Personal Care/Skin Car...</td>\n",
       "      <td>\\n            Jergens 20938 Natural Glow Insta...</td>\n",
       "      <td>$10.68</td>\n",
       "      <td>4.3 out of 5 stars</td>\n",
       "      <td>8,185</td>\n",
       "    </tr>\n",
       "    <tr>\n",
       "      <th>9997</th>\n",
       "      <td>Any Department/Automotive/Performance Parts &amp; ...</td>\n",
       "      <td>\\n            ARP 201-6303 Connecting Rod Bolt...</td>\n",
       "      <td>$8.68</td>\n",
       "      <td>5.0 out of 5 stars</td>\n",
       "      <td>2</td>\n",
       "    </tr>\n",
       "    <tr>\n",
       "      <th>9998</th>\n",
       "      <td>Any Department/Automotive/Performance Parts &amp; ...</td>\n",
       "      <td>\\n            Walker 31533 Exhaust Gasket\\n   ...</td>\n",
       "      <td>$10.20</td>\n",
       "      <td>4.2 out of 5 stars</td>\n",
       "      <td>55</td>\n",
       "    </tr>\n",
       "    <tr>\n",
       "      <th>9999</th>\n",
       "      <td>Any Department/Sports &amp; Outdoors/Outdoor Recre...</td>\n",
       "      <td>\\n            Razor Force Drifter Kart\\n</td>\n",
       "      <td>$329.00</td>\n",
       "      <td>4.0 out of 5 stars</td>\n",
       "      <td>985</td>\n",
       "    </tr>\n",
       "  </tbody>\n",
       "</table>\n",
       "<p>10000 rows × 5 columns</p>\n",
       "</div>"
      ],
      "text/plain": [
       "                                               category  \\\n",
       "0     Any Department/Kitchen & Dining/Kitchen Utensi...   \n",
       "1     Any Department/Health & Household/House Suppli...   \n",
       "2     Any Department/Automotive/RV Parts & Accessori...   \n",
       "3     Any Department/Toys & Games/Hobbies/Trains & A...   \n",
       "4     Any Department/Sports & Outdoors/Outdoor Recre...   \n",
       "...                                                 ...   \n",
       "9995  Any Department/Sports & Outdoors/Fan Shop/Home...   \n",
       "9996  Any Department/Beauty & Personal Care/Skin Car...   \n",
       "9997  Any Department/Automotive/Performance Parts & ...   \n",
       "9998  Any Department/Automotive/Performance Parts & ...   \n",
       "9999  Any Department/Sports & Outdoors/Outdoor Recre...   \n",
       "\n",
       "                                                  title          price  \\\n",
       "0     \\n            Leifheit Comfortline Gourmet Gar...         $15.99   \n",
       "1     \\n            Food Grade Mineral Oil for Cutti...   $9.65 $29.95   \n",
       "2     \\n            SRRB Direct 1139/1383 LED Replac...  $11.99 $19.99   \n",
       "3     \\n            Bachmann Industries 50' Sliding ...         $53.99   \n",
       "4     \\n            Unisex Cycling Cap Breathable An...         $29.95   \n",
       "...                                                 ...            ...   \n",
       "9995  \\n            GTEI Dallas Cowboys Desk Lamp\\n ...         $39.99   \n",
       "9996  \\n            Jergens 20938 Natural Glow Insta...         $10.68   \n",
       "9997  \\n            ARP 201-6303 Connecting Rod Bolt...          $8.68   \n",
       "9998  \\n            Walker 31533 Exhaust Gasket\\n   ...         $10.20   \n",
       "9999   \\n            Razor Force Drifter Kart\\n                $329.00   \n",
       "\n",
       "                  rating No of reviews  \n",
       "0     4.4 out of 5 stars           403  \n",
       "1     4.9 out of 5 stars           321  \n",
       "2     4.4 out of 5 stars           321  \n",
       "3     4.5 out of 5 stars             9  \n",
       "4     4.0 out of 5 stars            11  \n",
       "...                  ...           ...  \n",
       "9995  4.1 out of 5 stars             6  \n",
       "9996  4.3 out of 5 stars         8,185  \n",
       "9997  5.0 out of 5 stars             2  \n",
       "9998  4.2 out of 5 stars            55  \n",
       "9999  4.0 out of 5 stars           985  \n",
       "\n",
       "[10000 rows x 5 columns]"
      ]
     },
     "execution_count": 8,
     "metadata": {},
     "output_type": "execute_result"
    }
   ],
   "source": [
    "amazon"
   ]
  },
  {
   "cell_type": "code",
   "execution_count": 9,
   "metadata": {},
   "outputs": [
    {
     "name": "stdout",
     "output_type": "stream",
     "text": [
      "<class 'pandas.core.frame.DataFrame'>\n",
      "RangeIndex: 10000 entries, 0 to 9999\n",
      "Data columns (total 5 columns):\n",
      " #   Column         Non-Null Count  Dtype \n",
      "---  ------         --------------  ----- \n",
      " 0   category       10000 non-null  object\n",
      " 1   title          10000 non-null  object\n",
      " 2   price          9972 non-null   object\n",
      " 3   rating         10000 non-null  object\n",
      " 4   No of reviews  10000 non-null  object\n",
      "dtypes: object(5)\n",
      "memory usage: 390.8+ KB\n"
     ]
    }
   ],
   "source": [
    "amazon.info()"
   ]
  },
  {
   "cell_type": "markdown",
   "metadata": {},
   "source": [
    "### Cleaning the Number of Reviews variable"
   ]
  },
  {
   "cell_type": "code",
   "execution_count": 10,
   "metadata": {},
   "outputs": [],
   "source": [
    "# remove the comma in the numericals\n",
    "amazon['No of reviews'] = amazon['No of reviews'].str.replace(',','')"
   ]
  },
  {
   "cell_type": "code",
   "execution_count": 11,
   "metadata": {},
   "outputs": [],
   "source": [
    "# convert to integer\n",
    "amazon['No of reviews'] = amazon['No of reviews'].astype(int)"
   ]
  },
  {
   "cell_type": "markdown",
   "metadata": {},
   "source": [
    "### Cleaning the Ratings variable"
   ]
  },
  {
   "cell_type": "code",
   "execution_count": 12,
   "metadata": {},
   "outputs": [],
   "source": [
    "# remove the \"out of 5 stars\" string\n",
    "amazon['rating'] = amazon['rating'].str.replace(' out of 5 stars','')"
   ]
  },
  {
   "cell_type": "code",
   "execution_count": 13,
   "metadata": {},
   "outputs": [],
   "source": [
    "# convert to float\n",
    "amazon['rating'] = amazon['rating'].astype(float)"
   ]
  },
  {
   "cell_type": "markdown",
   "metadata": {},
   "source": [
    "### Cleaning the Product Title variable"
   ]
  },
  {
   "cell_type": "code",
   "execution_count": 22,
   "metadata": {},
   "outputs": [],
   "source": [
    "# remove any whitespace\n",
    "amazon['title'] = amazon['title'].str.strip()\n",
    "\n",
    "# remove the \"\\n \" string\n",
    "amazon['title'] = amazon['title'].str.replace('\\n ','')\n",
    "\n",
    "# remove any characters such as commas\n",
    "amazon['title'] = amazon['title'].str.replace(',','')\n",
    "amazon['title'] = amazon['title'].str.replace(' | ',' ')\n",
    "amazon['title'] = amazon['title'].str.replace('(','')\n",
    "amazon['title'] = amazon['title'].str.replace(')','')\n",
    "amazon['title'] = amazon['title'].str.replace('\"','')\n",
    "amazon['title'] = amazon['title'].str.replace(':','')\n",
    "amazon['title'] = amazon['title'].str.replace(';','')\n",
    "amazon['title'] = amazon['title'].str.replace('[','')\n",
    "amazon['title'] = amazon['title'].str.replace(']','')\n",
    "amazon['title'] = amazon['title'].str.replace(\"/\",' ')\n",
    "amazon['title'] = amazon['title'].str.replace('+','')\n",
    "amazon['title'] = amazon['title'].str.replace(' - ',' ')\n",
    "amazon['title'] = amazon['title'].str.replace(' & ',' ')\n",
    "amazon['title'] = amazon['title'].str.replace(\"'s\",'')\n",
    "amazon['title'] = amazon['title'].str.replace(\"'\",' ')\n",
    "\n",
    "# make the text all in lowercase\n",
    "amazon['title'] = amazon['title'].str.lower()"
   ]
  },
  {
   "cell_type": "code",
   "execution_count": 23,
   "metadata": {},
   "outputs": [
    {
     "name": "stderr",
     "output_type": "stream",
     "text": [
      "<ipython-input-23-497184235054>:7: SettingWithCopyWarning: \n",
      "A value is trying to be set on a copy of a slice from a DataFrame\n",
      "\n",
      "See the caveats in the documentation: https://pandas.pydata.org/pandas-docs/stable/user_guide/indexing.html#returning-a-view-versus-a-copy\n",
      "  amazon['title'][i] = string2\n"
     ]
    }
   ],
   "source": [
    "# removing duplicate words in the title\n",
    "\n",
    "for i in range(len(amazon['title'])):\n",
    "    string1 = amazon['title'][i]\n",
    "    words = string1.split()\n",
    "    string2 = \" \".join(sorted(set(words), key=words.index))\n",
    "    amazon['title'][i] = string2"
   ]
  },
  {
   "cell_type": "code",
   "execution_count": 24,
   "metadata": {},
   "outputs": [
    {
     "name": "stderr",
     "output_type": "stream",
     "text": [
      "<ipython-input-24-51fc0e52bf14>:22: SettingWithCopyWarning: \n",
      "A value is trying to be set on a copy of a slice from a DataFrame\n",
      "\n",
      "See the caveats in the documentation: https://pandas.pydata.org/pandas-docs/stable/user_guide/indexing.html#returning-a-view-versus-a-copy\n",
      "  amazon['title'][i] = string2\n"
     ]
    }
   ],
   "source": [
    "# removing filler words in the title\n",
    "\n",
    "from nltk.corpus import stopwords \n",
    "from nltk.tokenize import word_tokenize \n",
    "\n",
    "for i in range(len(amazon['title'])):\n",
    "    string1 = amazon['title'][i]\n",
    "  \n",
    "    stop_words = set(stopwords.words('english')) \n",
    "  \n",
    "    word_tokens = word_tokenize(string1) \n",
    "  \n",
    "    words = [w for w in word_tokens if not w in stop_words] \n",
    "  \n",
    "    words = [] \n",
    "  \n",
    "    for w in word_tokens: \n",
    "        if w not in stop_words: \n",
    "            words.append(w) \n",
    "        \n",
    "    string2 = \" \".join(sorted(set(words), key=words.index))\n",
    "    amazon['title'][i] = string2"
   ]
  },
  {
   "cell_type": "code",
   "execution_count": 25,
   "metadata": {},
   "outputs": [
    {
     "data": {
      "text/html": [
       "<div>\n",
       "<style scoped>\n",
       "    .dataframe tbody tr th:only-of-type {\n",
       "        vertical-align: middle;\n",
       "    }\n",
       "\n",
       "    .dataframe tbody tr th {\n",
       "        vertical-align: top;\n",
       "    }\n",
       "\n",
       "    .dataframe thead th {\n",
       "        text-align: right;\n",
       "    }\n",
       "</style>\n",
       "<table border=\"1\" class=\"dataframe\">\n",
       "  <thead>\n",
       "    <tr style=\"text-align: right;\">\n",
       "      <th></th>\n",
       "      <th>category</th>\n",
       "      <th>title</th>\n",
       "      <th>price</th>\n",
       "      <th>rating</th>\n",
       "      <th>No of reviews</th>\n",
       "    </tr>\n",
       "  </thead>\n",
       "  <tbody>\n",
       "    <tr>\n",
       "      <th>0</th>\n",
       "      <td>Any Department/Kitchen &amp; Dining/Kitchen Utensi...</td>\n",
       "      <td>leifheit comfortline gourmet garlic slicer | f...</td>\n",
       "      <td>$15.99</td>\n",
       "      <td>4.4</td>\n",
       "      <td>403</td>\n",
       "    </tr>\n",
       "    <tr>\n",
       "      <th>1</th>\n",
       "      <td>Any Department/Health &amp; Household/House Suppli...</td>\n",
       "      <td>food grade mineral oil cutting boards countert...</td>\n",
       "      <td>$9.65 $29.95</td>\n",
       "      <td>4.9</td>\n",
       "      <td>321</td>\n",
       "    </tr>\n",
       "    <tr>\n",
       "      <th>2</th>\n",
       "      <td>Any Department/Automotive/RV Parts &amp; Accessori...</td>\n",
       "      <td>srrb direct 1139 1383 led replacement r12 ba15...</td>\n",
       "      <td>$11.99 $19.99</td>\n",
       "      <td>4.4</td>\n",
       "      <td>321</td>\n",
       "    </tr>\n",
       "    <tr>\n",
       "      <th>3</th>\n",
       "      <td>Any Department/Toys &amp; Games/Hobbies/Trains &amp; A...</td>\n",
       "      <td>bachmann industries 50 sliding door box santa ...</td>\n",
       "      <td>$53.99</td>\n",
       "      <td>4.5</td>\n",
       "      <td>9</td>\n",
       "    </tr>\n",
       "    <tr>\n",
       "      <th>4</th>\n",
       "      <td>Any Department/Sports &amp; Outdoors/Outdoor Recre...</td>\n",
       "      <td>unisex cycling cap breathable anti-sweat helme...</td>\n",
       "      <td>$29.95</td>\n",
       "      <td>4.0</td>\n",
       "      <td>11</td>\n",
       "    </tr>\n",
       "  </tbody>\n",
       "</table>\n",
       "</div>"
      ],
      "text/plain": [
       "                                            category  \\\n",
       "0  Any Department/Kitchen & Dining/Kitchen Utensi...   \n",
       "1  Any Department/Health & Household/House Suppli...   \n",
       "2  Any Department/Automotive/RV Parts & Accessori...   \n",
       "3  Any Department/Toys & Games/Hobbies/Trains & A...   \n",
       "4  Any Department/Sports & Outdoors/Outdoor Recre...   \n",
       "\n",
       "                                               title          price  rating  \\\n",
       "0  leifheit comfortline gourmet garlic slicer | f...         $15.99     4.4   \n",
       "1  food grade mineral oil cutting boards countert...   $9.65 $29.95     4.9   \n",
       "2  srrb direct 1139 1383 led replacement r12 ba15...  $11.99 $19.99     4.4   \n",
       "3  bachmann industries 50 sliding door box santa ...         $53.99     4.5   \n",
       "4  unisex cycling cap breathable anti-sweat helme...         $29.95     4.0   \n",
       "\n",
       "   No of reviews  \n",
       "0            403  \n",
       "1            321  \n",
       "2            321  \n",
       "3              9  \n",
       "4             11  "
      ]
     },
     "execution_count": 25,
     "metadata": {},
     "output_type": "execute_result"
    }
   ],
   "source": [
    "amazon.head()"
   ]
  },
  {
   "cell_type": "markdown",
   "metadata": {},
   "source": [
    "### Cleaning the Categories Variable"
   ]
  },
  {
   "cell_type": "code",
   "execution_count": 26,
   "metadata": {},
   "outputs": [],
   "source": [
    "# remove the \"Any Department\" string\n",
    "amazon['category'] = amazon['category'].str.replace('Any Department/','')"
   ]
  },
  {
   "cell_type": "code",
   "execution_count": 27,
   "metadata": {},
   "outputs": [],
   "source": [
    "# split the different categories and store in a list\n",
    "amazon['category'] = amazon['category'].str.split(\"/\", expand=False)    "
   ]
  },
  {
   "cell_type": "markdown",
   "metadata": {},
   "source": [
    "### Cleaning the Price Variable"
   ]
  },
  {
   "cell_type": "code",
   "execution_count": 28,
   "metadata": {},
   "outputs": [],
   "source": [
    "# drop missing values of product price\n",
    "amazon.dropna(subset=['price'], inplace=True)\n",
    "\n",
    "# resetting the index\n",
    "amazon = amazon.reset_index(drop=True)"
   ]
  },
  {
   "cell_type": "code",
   "execution_count": 29,
   "metadata": {},
   "outputs": [],
   "source": [
    "# remove the dollar sign\n",
    "amazon['price'] = amazon['price'].str.replace('$','')"
   ]
  },
  {
   "cell_type": "code",
   "execution_count": 30,
   "metadata": {},
   "outputs": [],
   "source": [
    "# split the upper and lower price limit and store in a list\n",
    "amazon['price'] = amazon['price'].str.split(\" \", expand=False)"
   ]
  },
  {
   "cell_type": "code",
   "execution_count": 31,
   "metadata": {},
   "outputs": [
    {
     "name": "stderr",
     "output_type": "stream",
     "text": [
      "<ipython-input-31-b7a428beaf66>:9: SettingWithCopyWarning: \n",
      "A value is trying to be set on a copy of a slice from a DataFrame\n",
      "\n",
      "See the caveats in the documentation: https://pandas.pydata.org/pandas-docs/stable/user_guide/indexing.html#returning-a-view-versus-a-copy\n",
      "  amazon['price'][i] = count/length\n"
     ]
    }
   ],
   "source": [
    "# replacing the price as the midpoint of price range\n",
    "for i in range(len(amazon['price'])):\n",
    "    array = amazon['price'][i]\n",
    "    length = len(array)\n",
    "    count = 0\n",
    "    for j in range(length):\n",
    "        price = float(array[j])\n",
    "        count = count + price\n",
    "    amazon['price'][i] = count/length"
   ]
  },
  {
   "cell_type": "code",
   "execution_count": 32,
   "metadata": {},
   "outputs": [],
   "source": [
    "# convert to float\n",
    "amazon['price'] = amazon['price'].astype(float)"
   ]
  },
  {
   "cell_type": "code",
   "execution_count": 33,
   "metadata": {},
   "outputs": [
    {
     "data": {
      "text/html": [
       "<div>\n",
       "<style scoped>\n",
       "    .dataframe tbody tr th:only-of-type {\n",
       "        vertical-align: middle;\n",
       "    }\n",
       "\n",
       "    .dataframe tbody tr th {\n",
       "        vertical-align: top;\n",
       "    }\n",
       "\n",
       "    .dataframe thead th {\n",
       "        text-align: right;\n",
       "    }\n",
       "</style>\n",
       "<table border=\"1\" class=\"dataframe\">\n",
       "  <thead>\n",
       "    <tr style=\"text-align: right;\">\n",
       "      <th></th>\n",
       "      <th>category</th>\n",
       "      <th>title</th>\n",
       "      <th>price</th>\n",
       "      <th>rating</th>\n",
       "      <th>No of reviews</th>\n",
       "    </tr>\n",
       "  </thead>\n",
       "  <tbody>\n",
       "    <tr>\n",
       "      <th>0</th>\n",
       "      <td>[Kitchen &amp; Dining, Kitchen Utensils &amp; Gadgets,...</td>\n",
       "      <td>leifheit comfortline gourmet garlic slicer | f...</td>\n",
       "      <td>15.99</td>\n",
       "      <td>4.4</td>\n",
       "      <td>403</td>\n",
       "    </tr>\n",
       "    <tr>\n",
       "      <th>1</th>\n",
       "      <td>[Health &amp; Household, House Supplies, Household...</td>\n",
       "      <td>food grade mineral oil cutting boards countert...</td>\n",
       "      <td>19.80</td>\n",
       "      <td>4.9</td>\n",
       "      <td>321</td>\n",
       "    </tr>\n",
       "    <tr>\n",
       "      <th>2</th>\n",
       "      <td>[Automotive, RV Parts &amp; Accessories,  Lighting]</td>\n",
       "      <td>srrb direct 1139 1383 led replacement r12 ba15...</td>\n",
       "      <td>15.99</td>\n",
       "      <td>4.4</td>\n",
       "      <td>321</td>\n",
       "    </tr>\n",
       "    <tr>\n",
       "      <th>3</th>\n",
       "      <td>[Toys &amp; Games, Hobbies, Trains &amp; Accessories, ...</td>\n",
       "      <td>bachmann industries 50 sliding door box santa ...</td>\n",
       "      <td>53.99</td>\n",
       "      <td>4.5</td>\n",
       "      <td>9</td>\n",
       "    </tr>\n",
       "    <tr>\n",
       "      <th>4</th>\n",
       "      <td>[Sports &amp; Outdoors, Outdoor Recreation, Cyclin...</td>\n",
       "      <td>unisex cycling cap breathable anti-sweat helme...</td>\n",
       "      <td>29.95</td>\n",
       "      <td>4.0</td>\n",
       "      <td>11</td>\n",
       "    </tr>\n",
       "    <tr>\n",
       "      <th>...</th>\n",
       "      <td>...</td>\n",
       "      <td>...</td>\n",
       "      <td>...</td>\n",
       "      <td>...</td>\n",
       "      <td>...</td>\n",
       "    </tr>\n",
       "    <tr>\n",
       "      <th>9967</th>\n",
       "      <td>[Sports &amp; Outdoors, Fan Shop, Home &amp; Kitchen, ...</td>\n",
       "      <td>gtei dallas cowboys desk lamp</td>\n",
       "      <td>39.99</td>\n",
       "      <td>4.1</td>\n",
       "      <td>6</td>\n",
       "    </tr>\n",
       "    <tr>\n",
       "      <th>9968</th>\n",
       "      <td>[Beauty &amp; Personal Care, Skin Care,  Sunscreen...</td>\n",
       "      <td>jergens 20938 natural glow instant sun body mo...</td>\n",
       "      <td>10.68</td>\n",
       "      <td>4.3</td>\n",
       "      <td>8185</td>\n",
       "    </tr>\n",
       "    <tr>\n",
       "      <th>9969</th>\n",
       "      <td>[Automotive, Performance Parts &amp; Accessories, ...</td>\n",
       "      <td>arp 201-6303 connecting rod bolt kit</td>\n",
       "      <td>8.68</td>\n",
       "      <td>5.0</td>\n",
       "      <td>2</td>\n",
       "    </tr>\n",
       "    <tr>\n",
       "      <th>9970</th>\n",
       "      <td>[Automotive, Performance Parts &amp; Accessories, ...</td>\n",
       "      <td>walker 31533 exhaust gasket</td>\n",
       "      <td>10.20</td>\n",
       "      <td>4.2</td>\n",
       "      <td>55</td>\n",
       "    </tr>\n",
       "    <tr>\n",
       "      <th>9971</th>\n",
       "      <td>[Sports &amp; Outdoors, Outdoor Recreation, Skates...</td>\n",
       "      <td>razor force drifter kart</td>\n",
       "      <td>329.00</td>\n",
       "      <td>4.0</td>\n",
       "      <td>985</td>\n",
       "    </tr>\n",
       "  </tbody>\n",
       "</table>\n",
       "<p>9972 rows × 5 columns</p>\n",
       "</div>"
      ],
      "text/plain": [
       "                                               category  \\\n",
       "0     [Kitchen & Dining, Kitchen Utensils & Gadgets,...   \n",
       "1     [Health & Household, House Supplies, Household...   \n",
       "2       [Automotive, RV Parts & Accessories,  Lighting]   \n",
       "3     [Toys & Games, Hobbies, Trains & Accessories, ...   \n",
       "4     [Sports & Outdoors, Outdoor Recreation, Cyclin...   \n",
       "...                                                 ...   \n",
       "9967  [Sports & Outdoors, Fan Shop, Home & Kitchen, ...   \n",
       "9968  [Beauty & Personal Care, Skin Care,  Sunscreen...   \n",
       "9969  [Automotive, Performance Parts & Accessories, ...   \n",
       "9970  [Automotive, Performance Parts & Accessories, ...   \n",
       "9971  [Sports & Outdoors, Outdoor Recreation, Skates...   \n",
       "\n",
       "                                                  title   price  rating  \\\n",
       "0     leifheit comfortline gourmet garlic slicer | f...   15.99     4.4   \n",
       "1     food grade mineral oil cutting boards countert...   19.80     4.9   \n",
       "2     srrb direct 1139 1383 led replacement r12 ba15...   15.99     4.4   \n",
       "3     bachmann industries 50 sliding door box santa ...   53.99     4.5   \n",
       "4     unisex cycling cap breathable anti-sweat helme...   29.95     4.0   \n",
       "...                                                 ...     ...     ...   \n",
       "9967                      gtei dallas cowboys desk lamp   39.99     4.1   \n",
       "9968  jergens 20938 natural glow instant sun body mo...   10.68     4.3   \n",
       "9969               arp 201-6303 connecting rod bolt kit    8.68     5.0   \n",
       "9970                        walker 31533 exhaust gasket   10.20     4.2   \n",
       "9971                           razor force drifter kart  329.00     4.0   \n",
       "\n",
       "      No of reviews  \n",
       "0               403  \n",
       "1               321  \n",
       "2               321  \n",
       "3                 9  \n",
       "4                11  \n",
       "...             ...  \n",
       "9967              6  \n",
       "9968           8185  \n",
       "9969              2  \n",
       "9970             55  \n",
       "9971            985  \n",
       "\n",
       "[9972 rows x 5 columns]"
      ]
     },
     "execution_count": 33,
     "metadata": {},
     "output_type": "execute_result"
    }
   ],
   "source": [
    "amazon"
   ]
  },
  {
   "cell_type": "code",
   "execution_count": 34,
   "metadata": {},
   "outputs": [
    {
     "name": "stdout",
     "output_type": "stream",
     "text": [
      "<class 'pandas.core.frame.DataFrame'>\n",
      "RangeIndex: 9972 entries, 0 to 9971\n",
      "Data columns (total 5 columns):\n",
      " #   Column         Non-Null Count  Dtype  \n",
      "---  ------         --------------  -----  \n",
      " 0   category       9972 non-null   object \n",
      " 1   title          9972 non-null   object \n",
      " 2   price          9972 non-null   float64\n",
      " 3   rating         9972 non-null   float64\n",
      " 4   No of reviews  9972 non-null   int64  \n",
      "dtypes: float64(2), int64(1), object(2)\n",
      "memory usage: 389.7+ KB\n"
     ]
    }
   ],
   "source": [
    "amazon.info()"
   ]
  },
  {
   "cell_type": "code",
   "execution_count": 35,
   "metadata": {},
   "outputs": [
    {
     "data": {
      "text/html": [
       "<div>\n",
       "<style scoped>\n",
       "    .dataframe tbody tr th:only-of-type {\n",
       "        vertical-align: middle;\n",
       "    }\n",
       "\n",
       "    .dataframe tbody tr th {\n",
       "        vertical-align: top;\n",
       "    }\n",
       "\n",
       "    .dataframe thead th {\n",
       "        text-align: right;\n",
       "    }\n",
       "</style>\n",
       "<table border=\"1\" class=\"dataframe\">\n",
       "  <thead>\n",
       "    <tr style=\"text-align: right;\">\n",
       "      <th></th>\n",
       "      <th>price</th>\n",
       "      <th>rating</th>\n",
       "      <th>No of reviews</th>\n",
       "    </tr>\n",
       "  </thead>\n",
       "  <tbody>\n",
       "    <tr>\n",
       "      <th>count</th>\n",
       "      <td>9972.000000</td>\n",
       "      <td>9972.000000</td>\n",
       "      <td>9972.000000</td>\n",
       "    </tr>\n",
       "    <tr>\n",
       "      <th>mean</th>\n",
       "      <td>48.953858</td>\n",
       "      <td>4.393672</td>\n",
       "      <td>710.143702</td>\n",
       "    </tr>\n",
       "    <tr>\n",
       "      <th>std</th>\n",
       "      <td>83.966536</td>\n",
       "      <td>0.503572</td>\n",
       "      <td>3869.207693</td>\n",
       "    </tr>\n",
       "    <tr>\n",
       "      <th>min</th>\n",
       "      <td>0.010000</td>\n",
       "      <td>1.000000</td>\n",
       "      <td>1.000000</td>\n",
       "    </tr>\n",
       "    <tr>\n",
       "      <th>25%</th>\n",
       "      <td>13.446250</td>\n",
       "      <td>4.200000</td>\n",
       "      <td>14.000000</td>\n",
       "    </tr>\n",
       "    <tr>\n",
       "      <th>50%</th>\n",
       "      <td>22.490000</td>\n",
       "      <td>4.500000</td>\n",
       "      <td>85.000000</td>\n",
       "    </tr>\n",
       "    <tr>\n",
       "      <th>75%</th>\n",
       "      <td>45.730000</td>\n",
       "      <td>4.700000</td>\n",
       "      <td>389.000000</td>\n",
       "    </tr>\n",
       "    <tr>\n",
       "      <th>max</th>\n",
       "      <td>995.000000</td>\n",
       "      <td>5.000000</td>\n",
       "      <td>267050.000000</td>\n",
       "    </tr>\n",
       "  </tbody>\n",
       "</table>\n",
       "</div>"
      ],
      "text/plain": [
       "             price       rating  No of reviews\n",
       "count  9972.000000  9972.000000    9972.000000\n",
       "mean     48.953858     4.393672     710.143702\n",
       "std      83.966536     0.503572    3869.207693\n",
       "min       0.010000     1.000000       1.000000\n",
       "25%      13.446250     4.200000      14.000000\n",
       "50%      22.490000     4.500000      85.000000\n",
       "75%      45.730000     4.700000     389.000000\n",
       "max     995.000000     5.000000  267050.000000"
      ]
     },
     "execution_count": 35,
     "metadata": {},
     "output_type": "execute_result"
    }
   ],
   "source": [
    "amazon.describe()"
   ]
  }
 ],
 "metadata": {
  "kernelspec": {
   "display_name": "Python 3",
   "language": "python",
   "name": "python3"
  },
  "language_info": {
   "codemirror_mode": {
    "name": "ipython",
    "version": 3
   },
   "file_extension": ".py",
   "mimetype": "text/x-python",
   "name": "python",
   "nbconvert_exporter": "python",
   "pygments_lexer": "ipython3",
   "version": "3.8.5"
  }
 },
 "nbformat": 4,
 "nbformat_minor": 4
}

{
 "metadata": {
  "language_info": {
   "codemirror_mode": {
    "name": "ipython",
    "version": 3
   },
   "file_extension": ".py",
   "mimetype": "text/x-python",
   "name": "python",
   "nbconvert_exporter": "python",
   "pygments_lexer": "ipython3",
   "version": "3.8.5"
  },
  "orig_nbformat": 2,
  "kernelspec": {
   "name": "python385jvsc74a57bd03b9fe6346e5725a1f68c121c27829f7dd9c73b5929f932aab41dbdafc849b36b",
   "display_name": "Python 3.8.5 64-bit ('data_res_s21': conda)"
  }
 },
 "nbformat": 4,
 "nbformat_minor": 2,
 "cells": [
  {
   "cell_type": "code",
   "execution_count": 1,
   "metadata": {},
   "outputs": [],
   "source": [
    "# import libraries\n",
    "import numpy as np\n",
    "import pandas as pd\n",
    "import matplotlib.pyplot as plt\n",
    "import seaborn as sns\n",
    "import nltk"
   ]
  },
  {
   "cell_type": "code",
   "execution_count": 2,
   "metadata": {},
   "outputs": [],
   "source": [
    "amazon_data = pd.read_csv('../Datasets/clean_amazon_data.csv')"
   ]
  },
  {
   "cell_type": "code",
   "execution_count": 3,
   "metadata": {},
   "outputs": [
    {
     "output_type": "execute_result",
     "data": {
      "text/plain": [
       "Index(['Unnamed: 0', 'category', 'title', 'price', 'rating', 'No of reviews'], dtype='object')"
      ]
     },
     "metadata": {},
     "execution_count": 3
    }
   ],
   "source": [
    "amazon_data.columns"
   ]
  },
  {
   "cell_type": "code",
   "execution_count": 4,
   "metadata": {},
   "outputs": [
    {
     "output_type": "stream",
     "name": "stdout",
     "text": [
      "<class 'pandas.core.frame.DataFrame'>\nRangeIndex: 9972 entries, 0 to 9971\nData columns (total 6 columns):\n #   Column         Non-Null Count  Dtype  \n---  ------         --------------  -----  \n 0   Unnamed: 0     9972 non-null   int64  \n 1   category       9972 non-null   object \n 2   title          9972 non-null   object \n 3   price          9972 non-null   float64\n 4   rating         9972 non-null   float64\n 5   No of reviews  9972 non-null   int64  \ndtypes: float64(2), int64(2), object(2)\nmemory usage: 467.6+ KB\n"
     ]
    }
   ],
   "source": [
    "amazon_data.info()"
   ]
  },
  {
   "cell_type": "code",
   "execution_count": 5,
   "metadata": {},
   "outputs": [
    {
     "output_type": "execute_result",
     "data": {
      "text/plain": [
       "   Unnamed: 0                                           category  \\\n",
       "0           0  ['Kitchen & Dining', 'Kitchen Utensils & Gadge...   \n",
       "1           1  ['Health & Household', 'House Supplies', 'Hous...   \n",
       "2           2  ['Automotive', 'RV Parts & Accessories', ' Lig...   \n",
       "3           3  ['Toys & Games', 'Hobbies', 'Trains & Accessor...   \n",
       "4           4  ['Sports & Outdoors', 'Outdoor Recreation', 'C...   \n",
       "\n",
       "                                               title  price  rating  \\\n",
       "0  leifheit comfortline gourmet garlic slicer | f...  15.99     4.4   \n",
       "1  food grade mineral oil cutting boards countert...  19.80     4.9   \n",
       "2  srrb direct 1139 1383 led replacement r12 ba15...  15.99     4.4   \n",
       "3  bachmann industries 50 sliding door box santa ...  53.99     4.5   \n",
       "4  unisex cycling cap breathable anti-sweat helme...  29.95     4.0   \n",
       "\n",
       "   No of reviews  \n",
       "0            403  \n",
       "1            321  \n",
       "2            321  \n",
       "3              9  \n",
       "4             11  "
      ],
      "text/html": "<div>\n<style scoped>\n    .dataframe tbody tr th:only-of-type {\n        vertical-align: middle;\n    }\n\n    .dataframe tbody tr th {\n        vertical-align: top;\n    }\n\n    .dataframe thead th {\n        text-align: right;\n    }\n</style>\n<table border=\"1\" class=\"dataframe\">\n  <thead>\n    <tr style=\"text-align: right;\">\n      <th></th>\n      <th>Unnamed: 0</th>\n      <th>category</th>\n      <th>title</th>\n      <th>price</th>\n      <th>rating</th>\n      <th>No of reviews</th>\n    </tr>\n  </thead>\n  <tbody>\n    <tr>\n      <th>0</th>\n      <td>0</td>\n      <td>['Kitchen &amp; Dining', 'Kitchen Utensils &amp; Gadge...</td>\n      <td>leifheit comfortline gourmet garlic slicer | f...</td>\n      <td>15.99</td>\n      <td>4.4</td>\n      <td>403</td>\n    </tr>\n    <tr>\n      <th>1</th>\n      <td>1</td>\n      <td>['Health &amp; Household', 'House Supplies', 'Hous...</td>\n      <td>food grade mineral oil cutting boards countert...</td>\n      <td>19.80</td>\n      <td>4.9</td>\n      <td>321</td>\n    </tr>\n    <tr>\n      <th>2</th>\n      <td>2</td>\n      <td>['Automotive', 'RV Parts &amp; Accessories', ' Lig...</td>\n      <td>srrb direct 1139 1383 led replacement r12 ba15...</td>\n      <td>15.99</td>\n      <td>4.4</td>\n      <td>321</td>\n    </tr>\n    <tr>\n      <th>3</th>\n      <td>3</td>\n      <td>['Toys &amp; Games', 'Hobbies', 'Trains &amp; Accessor...</td>\n      <td>bachmann industries 50 sliding door box santa ...</td>\n      <td>53.99</td>\n      <td>4.5</td>\n      <td>9</td>\n    </tr>\n    <tr>\n      <th>4</th>\n      <td>4</td>\n      <td>['Sports &amp; Outdoors', 'Outdoor Recreation', 'C...</td>\n      <td>unisex cycling cap breathable anti-sweat helme...</td>\n      <td>29.95</td>\n      <td>4.0</td>\n      <td>11</td>\n    </tr>\n  </tbody>\n</table>\n</div>"
     },
     "metadata": {},
     "execution_count": 5
    }
   ],
   "source": [
    "amazon_data.head()"
   ]
  },
  {
   "cell_type": "code",
   "execution_count": 15,
   "metadata": {},
   "outputs": [
    {
     "output_type": "execute_result",
     "data": {
      "text/plain": [
       "dtype('O')"
      ]
     },
     "metadata": {},
     "execution_count": 15
    }
   ],
   "source": [
    "amazon_data['category'].dtype"
   ]
  },
  {
   "cell_type": "code",
   "execution_count": 17,
   "metadata": {},
   "outputs": [
    {
     "output_type": "execute_result",
     "data": {
      "text/plain": [
       "\"['Kitchen & Dining', 'Kitchen Utensils & Gadgets', 'Graters, Peelers & Slicers', ' Mandolines & Slicers']\""
      ]
     },
     "metadata": {},
     "execution_count": 17
    }
   ],
   "source": [
    "se = amazon_data['category'].iloc[0]\n",
    "se"
   ]
  },
  {
   "cell_type": "code",
   "execution_count": 32,
   "metadata": {},
   "outputs": [],
   "source": [
    "def format_category(s):\n",
    "    res = s[2:-2].replace(\"'\", \"\").split(\", \")  # convert string to list \n",
    "    result = [s.strip() for s in res]           # noticed some leading and trailing whitespace in entries (see above cell)\n",
    "    return set(result)                          # convert to set() for O(1) search "
   ]
  },
  {
   "cell_type": "code",
   "execution_count": 33,
   "metadata": {},
   "outputs": [
    {
     "output_type": "execute_result",
     "data": {
      "text/plain": [
       "{'Health & Household',\n",
       " 'House Supplies',\n",
       " 'Household Cleaning',\n",
       " 'Waxes & Oils',\n",
       " 'Wood Conditioners'}"
      ]
     },
     "metadata": {},
     "execution_count": 33
    }
   ],
   "source": [
    "format_category(amazon_data['category'][1])"
   ]
  },
  {
   "cell_type": "code",
   "execution_count": 39,
   "metadata": {},
   "outputs": [
    {
     "output_type": "execute_result",
     "data": {
      "text/plain": [
       "set"
      ]
     },
     "metadata": {},
     "execution_count": 39
    }
   ],
   "source": [
    "type(format_category(amazon_data['category'][1]))"
   ]
  },
  {
   "cell_type": "code",
   "execution_count": 37,
   "metadata": {},
   "outputs": [
    {
     "output_type": "execute_result",
     "data": {
      "text/plain": [
       "0       {Graters, Kitchen & Dining, Peelers & Slicers,...\n",
       "1       {Waxes & Oils, Household Cleaning, House Suppl...\n",
       "2          {Lighting, Automotive, RV Parts & Accessories}\n",
       "3       {Boxcars, Trains & Accessories, Hobbies, Train...\n",
       "4       {Cycling, Sports & Outdoors, Outdoor Recreatio...\n",
       "                              ...                        \n",
       "9967    {Sports & Outdoors, Fan Shop, Lamps, Home & Ki...\n",
       "9968    {Skin Care, Sunscreens & Tanning Products, Bea...\n",
       "9969    {Bolts & Nuts, Automotive, Engines & Engine Pa...\n",
       "9970    {Performance Parts & Accessories, Exhaust Syst...\n",
       "9971    {Sports & Outdoors, Outdoor Recreation, Skateb...\n",
       "Name: clean_category, Length: 9972, dtype: object"
      ]
     },
     "metadata": {},
     "execution_count": 37
    }
   ],
   "source": [
    "amazon_data['clean_category'] = amazon_data['category'].apply(format_category)\n",
    "amazon_data['clean_category']"
   ]
  },
  {
   "cell_type": "code",
   "execution_count": 40,
   "metadata": {},
   "outputs": [],
   "source": [
    "categories = amazon_data['clean_category']"
   ]
  },
  {
   "cell_type": "code",
   "execution_count": 42,
   "metadata": {},
   "outputs": [
    {
     "output_type": "execute_result",
     "data": {
      "text/plain": [
       "count                                                  9972\n",
       "unique                                                 7482\n",
       "top       {Education & Crafts, Teachers Calendars & Plan...\n",
       "freq                                                      6\n",
       "Name: clean_category, dtype: object"
      ]
     },
     "metadata": {},
     "execution_count": 42
    }
   ],
   "source": [
    "categories.describe()"
   ]
  }
 ]
}
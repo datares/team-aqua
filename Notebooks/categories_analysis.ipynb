{
 "metadata": {
  "language_info": {
   "codemirror_mode": {
    "name": "ipython",
    "version": 3
   },
   "file_extension": ".py",
   "mimetype": "text/x-python",
   "name": "python",
   "nbconvert_exporter": "python",
   "pygments_lexer": "ipython3",
   "version": "3.8.5"
  },
  "orig_nbformat": 2,
  "kernelspec": {
   "name": "python385jvsc74a57bd03b9fe6346e5725a1f68c121c27829f7dd9c73b5929f932aab41dbdafc849b36b",
   "display_name": "Python 3.8.5 64-bit ('data_res_s21': conda)"
  }
 },
 "nbformat": 4,
 "nbformat_minor": 2,
 "cells": [
  {
   "source": [
    "# Analysis of Category Variable"
   ],
   "cell_type": "markdown",
   "metadata": {}
  },
  {
   "source": [
    "# import libraries\n",
    "import numpy as np\n",
    "import pandas as pd\n",
    "import matplotlib.pyplot as plt\n",
    "import seaborn as sns\n",
    "import nltk"
   ],
   "cell_type": "code",
   "metadata": {},
   "execution_count": 2,
   "outputs": []
  },
  {
   "cell_type": "code",
   "execution_count": 3,
   "metadata": {},
   "outputs": [],
   "source": [
    "amazon_data = pd.read_csv('../Datasets/clean_amazon_data.csv').drop(columns = ['Unnamed: 0'])"
   ]
  },
  {
   "cell_type": "code",
   "execution_count": 4,
   "metadata": {},
   "outputs": [
    {
     "output_type": "execute_result",
     "data": {
      "text/plain": [
       "Index(['category', 'title', 'price', 'rating', 'No of reviews'], dtype='object')"
      ]
     },
     "metadata": {},
     "execution_count": 4
    }
   ],
   "source": [
    "amazon_data.columns"
   ]
  },
  {
   "cell_type": "code",
   "execution_count": 5,
   "metadata": {},
   "outputs": [
    {
     "output_type": "stream",
     "name": "stdout",
     "text": [
      "<class 'pandas.core.frame.DataFrame'>\nRangeIndex: 9972 entries, 0 to 9971\nData columns (total 5 columns):\n #   Column         Non-Null Count  Dtype  \n---  ------         --------------  -----  \n 0   category       9972 non-null   object \n 1   title          9972 non-null   object \n 2   price          9972 non-null   float64\n 3   rating         9972 non-null   float64\n 4   No of reviews  9972 non-null   int64  \ndtypes: float64(2), int64(1), object(2)\nmemory usage: 389.7+ KB\n"
     ]
    }
   ],
   "source": [
    "amazon_data.info()"
   ]
  },
  {
   "cell_type": "code",
   "execution_count": 6,
   "metadata": {},
   "outputs": [
    {
     "output_type": "execute_result",
     "data": {
      "text/plain": [
       "                                            category  \\\n",
       "0  ['Kitchen & Dining', 'Kitchen Utensils & Gadge...   \n",
       "1  ['Health & Household', 'House Supplies', 'Hous...   \n",
       "2  ['Automotive', 'RV Parts & Accessories', ' Lig...   \n",
       "3  ['Toys & Games', 'Hobbies', 'Trains & Accessor...   \n",
       "4  ['Sports & Outdoors', 'Outdoor Recreation', 'C...   \n",
       "\n",
       "                                               title  price  rating  \\\n",
       "0  leifheit comfortline gourmet garlic slicer | f...  15.99     4.4   \n",
       "1  food grade mineral oil cutting boards countert...  19.80     4.9   \n",
       "2  srrb direct 1139 1383 led replacement r12 ba15...  15.99     4.4   \n",
       "3  bachmann industries 50 sliding door box santa ...  53.99     4.5   \n",
       "4  unisex cycling cap breathable anti-sweat helme...  29.95     4.0   \n",
       "\n",
       "   No of reviews  \n",
       "0            403  \n",
       "1            321  \n",
       "2            321  \n",
       "3              9  \n",
       "4             11  "
      ],
      "text/html": "<div>\n<style scoped>\n    .dataframe tbody tr th:only-of-type {\n        vertical-align: middle;\n    }\n\n    .dataframe tbody tr th {\n        vertical-align: top;\n    }\n\n    .dataframe thead th {\n        text-align: right;\n    }\n</style>\n<table border=\"1\" class=\"dataframe\">\n  <thead>\n    <tr style=\"text-align: right;\">\n      <th></th>\n      <th>category</th>\n      <th>title</th>\n      <th>price</th>\n      <th>rating</th>\n      <th>No of reviews</th>\n    </tr>\n  </thead>\n  <tbody>\n    <tr>\n      <th>0</th>\n      <td>['Kitchen &amp; Dining', 'Kitchen Utensils &amp; Gadge...</td>\n      <td>leifheit comfortline gourmet garlic slicer | f...</td>\n      <td>15.99</td>\n      <td>4.4</td>\n      <td>403</td>\n    </tr>\n    <tr>\n      <th>1</th>\n      <td>['Health &amp; Household', 'House Supplies', 'Hous...</td>\n      <td>food grade mineral oil cutting boards countert...</td>\n      <td>19.80</td>\n      <td>4.9</td>\n      <td>321</td>\n    </tr>\n    <tr>\n      <th>2</th>\n      <td>['Automotive', 'RV Parts &amp; Accessories', ' Lig...</td>\n      <td>srrb direct 1139 1383 led replacement r12 ba15...</td>\n      <td>15.99</td>\n      <td>4.4</td>\n      <td>321</td>\n    </tr>\n    <tr>\n      <th>3</th>\n      <td>['Toys &amp; Games', 'Hobbies', 'Trains &amp; Accessor...</td>\n      <td>bachmann industries 50 sliding door box santa ...</td>\n      <td>53.99</td>\n      <td>4.5</td>\n      <td>9</td>\n    </tr>\n    <tr>\n      <th>4</th>\n      <td>['Sports &amp; Outdoors', 'Outdoor Recreation', 'C...</td>\n      <td>unisex cycling cap breathable anti-sweat helme...</td>\n      <td>29.95</td>\n      <td>4.0</td>\n      <td>11</td>\n    </tr>\n  </tbody>\n</table>\n</div>"
     },
     "metadata": {},
     "execution_count": 6
    }
   ],
   "source": [
    "amazon_data.head()"
   ]
  },
  {
   "cell_type": "code",
   "execution_count": 7,
   "metadata": {},
   "outputs": [
    {
     "output_type": "execute_result",
     "data": {
      "text/plain": [
       "                                               category  \\\n",
       "0     ['Kitchen & Dining', 'Kitchen Utensils & Gadge...   \n",
       "1     ['Health & Household', 'House Supplies', 'Hous...   \n",
       "2     ['Automotive', 'RV Parts & Accessories', ' Lig...   \n",
       "3     ['Toys & Games', 'Hobbies', 'Trains & Accessor...   \n",
       "4     ['Sports & Outdoors', 'Outdoor Recreation', 'C...   \n",
       "...                                                 ...   \n",
       "9967  ['Sports & Outdoors', 'Fan Shop', 'Home & Kitc...   \n",
       "9968  ['Beauty & Personal Care', 'Skin Care', ' Suns...   \n",
       "9969  ['Automotive', 'Performance Parts & Accessorie...   \n",
       "9970  ['Automotive', 'Performance Parts & Accessorie...   \n",
       "9971  ['Sports & Outdoors', 'Outdoor Recreation', 'S...   \n",
       "\n",
       "                                                  title   price  rating  \\\n",
       "0     leifheit comfortline gourmet garlic slicer | f...   15.99     4.4   \n",
       "1     food grade mineral oil cutting boards countert...   19.80     4.9   \n",
       "2     srrb direct 1139 1383 led replacement r12 ba15...   15.99     4.4   \n",
       "3     bachmann industries 50 sliding door box santa ...   53.99     4.5   \n",
       "4     unisex cycling cap breathable anti-sweat helme...   29.95     4.0   \n",
       "...                                                 ...     ...     ...   \n",
       "9967                      gtei dallas cowboys desk lamp   39.99     4.1   \n",
       "9968  jergens 20938 natural glow instant sun body mo...   10.68     4.3   \n",
       "9969               arp 201-6303 connecting rod bolt kit    8.68     5.0   \n",
       "9970                        walker 31533 exhaust gasket   10.20     4.2   \n",
       "9971                           razor force drifter kart  329.00     4.0   \n",
       "\n",
       "      num_reviews  \n",
       "0             403  \n",
       "1             321  \n",
       "2             321  \n",
       "3               9  \n",
       "4              11  \n",
       "...           ...  \n",
       "9967            6  \n",
       "9968         8185  \n",
       "9969            2  \n",
       "9970           55  \n",
       "9971          985  \n",
       "\n",
       "[9972 rows x 5 columns]"
      ],
      "text/html": "<div>\n<style scoped>\n    .dataframe tbody tr th:only-of-type {\n        vertical-align: middle;\n    }\n\n    .dataframe tbody tr th {\n        vertical-align: top;\n    }\n\n    .dataframe thead th {\n        text-align: right;\n    }\n</style>\n<table border=\"1\" class=\"dataframe\">\n  <thead>\n    <tr style=\"text-align: right;\">\n      <th></th>\n      <th>category</th>\n      <th>title</th>\n      <th>price</th>\n      <th>rating</th>\n      <th>num_reviews</th>\n    </tr>\n  </thead>\n  <tbody>\n    <tr>\n      <th>0</th>\n      <td>['Kitchen &amp; Dining', 'Kitchen Utensils &amp; Gadge...</td>\n      <td>leifheit comfortline gourmet garlic slicer | f...</td>\n      <td>15.99</td>\n      <td>4.4</td>\n      <td>403</td>\n    </tr>\n    <tr>\n      <th>1</th>\n      <td>['Health &amp; Household', 'House Supplies', 'Hous...</td>\n      <td>food grade mineral oil cutting boards countert...</td>\n      <td>19.80</td>\n      <td>4.9</td>\n      <td>321</td>\n    </tr>\n    <tr>\n      <th>2</th>\n      <td>['Automotive', 'RV Parts &amp; Accessories', ' Lig...</td>\n      <td>srrb direct 1139 1383 led replacement r12 ba15...</td>\n      <td>15.99</td>\n      <td>4.4</td>\n      <td>321</td>\n    </tr>\n    <tr>\n      <th>3</th>\n      <td>['Toys &amp; Games', 'Hobbies', 'Trains &amp; Accessor...</td>\n      <td>bachmann industries 50 sliding door box santa ...</td>\n      <td>53.99</td>\n      <td>4.5</td>\n      <td>9</td>\n    </tr>\n    <tr>\n      <th>4</th>\n      <td>['Sports &amp; Outdoors', 'Outdoor Recreation', 'C...</td>\n      <td>unisex cycling cap breathable anti-sweat helme...</td>\n      <td>29.95</td>\n      <td>4.0</td>\n      <td>11</td>\n    </tr>\n    <tr>\n      <th>...</th>\n      <td>...</td>\n      <td>...</td>\n      <td>...</td>\n      <td>...</td>\n      <td>...</td>\n    </tr>\n    <tr>\n      <th>9967</th>\n      <td>['Sports &amp; Outdoors', 'Fan Shop', 'Home &amp; Kitc...</td>\n      <td>gtei dallas cowboys desk lamp</td>\n      <td>39.99</td>\n      <td>4.1</td>\n      <td>6</td>\n    </tr>\n    <tr>\n      <th>9968</th>\n      <td>['Beauty &amp; Personal Care', 'Skin Care', ' Suns...</td>\n      <td>jergens 20938 natural glow instant sun body mo...</td>\n      <td>10.68</td>\n      <td>4.3</td>\n      <td>8185</td>\n    </tr>\n    <tr>\n      <th>9969</th>\n      <td>['Automotive', 'Performance Parts &amp; Accessorie...</td>\n      <td>arp 201-6303 connecting rod bolt kit</td>\n      <td>8.68</td>\n      <td>5.0</td>\n      <td>2</td>\n    </tr>\n    <tr>\n      <th>9970</th>\n      <td>['Automotive', 'Performance Parts &amp; Accessorie...</td>\n      <td>walker 31533 exhaust gasket</td>\n      <td>10.20</td>\n      <td>4.2</td>\n      <td>55</td>\n    </tr>\n    <tr>\n      <th>9971</th>\n      <td>['Sports &amp; Outdoors', 'Outdoor Recreation', 'S...</td>\n      <td>razor force drifter kart</td>\n      <td>329.00</td>\n      <td>4.0</td>\n      <td>985</td>\n    </tr>\n  </tbody>\n</table>\n<p>9972 rows × 5 columns</p>\n</div>"
     },
     "metadata": {},
     "execution_count": 7
    }
   ],
   "source": [
    "amazon_data.columns = ['category', 'title', 'price', 'rating', 'num_reviews']\n",
    "amazon_data"
   ]
  },
  {
   "cell_type": "code",
   "execution_count": 8,
   "metadata": {},
   "outputs": [
    {
     "output_type": "execute_result",
     "data": {
      "text/plain": [
       "'leifheit comfortline gourmet garlic slicer | finely cut slice vegetableswhite red'"
      ]
     },
     "metadata": {},
     "execution_count": 8
    }
   ],
   "source": [
    "amazon_data.iloc[0].title"
   ]
  },
  {
   "source": [
    "## Formatting Category Variable For Easier Analysis"
   ],
   "cell_type": "markdown",
   "metadata": {}
  },
  {
   "cell_type": "code",
   "execution_count": 9,
   "metadata": {},
   "outputs": [
    {
     "output_type": "execute_result",
     "data": {
      "text/plain": [
       "dtype('O')"
      ]
     },
     "metadata": {},
     "execution_count": 9
    }
   ],
   "source": [
    "amazon_data['category'].dtype"
   ]
  },
  {
   "cell_type": "code",
   "execution_count": 10,
   "metadata": {},
   "outputs": [
    {
     "output_type": "execute_result",
     "data": {
      "text/plain": [
       "\"['Kitchen & Dining', 'Kitchen Utensils & Gadgets', 'Graters, Peelers & Slicers', ' Mandolines & Slicers']\""
      ]
     },
     "metadata": {},
     "execution_count": 10
    }
   ],
   "source": [
    "se = amazon_data['category'].iloc[0]\n",
    "se"
   ]
  },
  {
   "cell_type": "code",
   "execution_count": 11,
   "metadata": {},
   "outputs": [],
   "source": [
    "def format_category(s):\n",
    "    res = s[2:-2].replace(\"'\", \"\").replace('\"',\"\").split(\", \")  # convert string to list \n",
    "    result = [s.strip() for s in res]           # noticed some leading and trailing whitespace in entries (see above cell)\n",
    "    return set(result)                          # convert to set() for O(1) search "
   ]
  },
  {
   "cell_type": "code",
   "execution_count": 12,
   "metadata": {},
   "outputs": [
    {
     "output_type": "execute_result",
     "data": {
      "text/plain": [
       "{'Health & Household',\n",
       " 'House Supplies',\n",
       " 'Household Cleaning',\n",
       " 'Waxes & Oils',\n",
       " 'Wood Conditioners'}"
      ]
     },
     "metadata": {},
     "execution_count": 12
    }
   ],
   "source": [
    "format_category(amazon_data['category'][1])"
   ]
  },
  {
   "cell_type": "code",
   "execution_count": 13,
   "metadata": {},
   "outputs": [
    {
     "output_type": "execute_result",
     "data": {
      "text/plain": [
       "set"
      ]
     },
     "metadata": {},
     "execution_count": 13
    }
   ],
   "source": [
    "type(format_category(amazon_data['category'][1]))"
   ]
  },
  {
   "cell_type": "code",
   "execution_count": 14,
   "metadata": {},
   "outputs": [
    {
     "output_type": "execute_result",
     "data": {
      "text/plain": [
       "0       {Mandolines & Slicers, Kitchen & Dining, Kitch...\n",
       "1       {Waxes & Oils, Wood Conditioners, Health & Hou...\n",
       "2          {RV Parts & Accessories, Lighting, Automotive}\n",
       "3       {Boxcars, Trains & Accessories, Train Cars, To...\n",
       "4       {Outdoor Recreation, Clothing, Cycling, Sports...\n",
       "                              ...                        \n",
       "9967    {Lamps, Sports & Outdoors, Home & Kitchen, Fan...\n",
       "9968    {Beauty & Personal Care, Sunscreens & Tanning ...\n",
       "9969    {Bolts & Nuts, Engines & Engine Parts, Perform...\n",
       "9970    {Performance Parts & Accessories, Automotive, ...\n",
       "9971    {Accessories, Outdoor Recreation, Skateboards ...\n",
       "Name: clean_category, Length: 9972, dtype: object"
      ]
     },
     "metadata": {},
     "execution_count": 14
    }
   ],
   "source": [
    "amazon_data['clean_category'] = amazon_data['category'].apply(format_category)\n",
    "amazon_data['clean_category']"
   ]
  },
  {
   "cell_type": "code",
   "execution_count": 15,
   "metadata": {},
   "outputs": [],
   "source": [
    "categories = amazon_data['clean_category']"
   ]
  },
  {
   "cell_type": "code",
   "execution_count": 16,
   "metadata": {},
   "outputs": [
    {
     "output_type": "execute_result",
     "data": {
      "text/plain": [
       "count                                                  9972\n",
       "unique                                                 7482\n",
       "top       {Teachers Calendars & Planners, Office Product...\n",
       "freq                                                      6\n",
       "Name: clean_category, dtype: object"
      ]
     },
     "metadata": {},
     "execution_count": 16
    }
   ],
   "source": [
    "categories.describe()"
   ]
  },
  {
   "source": [
    "## Extracting and Examining Unique Category Values"
   ],
   "cell_type": "markdown",
   "metadata": {}
  },
  {
   "cell_type": "code",
   "execution_count": 17,
   "metadata": {},
   "outputs": [],
   "source": [
    "category_list = set()\n",
    "for cats in categories.values:\n",
    "    category_list = category_list.union(cats)\n",
    "category_list = sorted(list(category_list))"
   ]
  },
  {
   "cell_type": "code",
   "execution_count": 18,
   "metadata": {},
   "outputs": [],
   "source": [
    "category_list = {}\n",
    "for cats in categories.values:\n",
    "    for c in cats:\n",
    "        category_list[c] = category_list.setdefault(c, 0) + 1"
   ]
  },
  {
   "cell_type": "code",
   "execution_count": 19,
   "metadata": {},
   "outputs": [
    {
     "output_type": "execute_result",
     "data": {
      "text/plain": [
       "sories', 1), ('Noise Filters', 1), ('L-Lysine', 1), ('Parking Brake Shoes', 1), ('Pick-Up Tubes & Screens', 1), ('Temperature Probes & Sensors', 1), ('Raised Bowls', 2), ('Iron-on Transfers', 1), ('Students Scissors', 1), ('Marching Snare Drums', 1), ('Coffee Cups & Mugs', 1), ('Taco Sauce', 2), ('Bases & Melts', 2), ('Video Glasses', 1), ('Floss', 1), ('Fluorescent Lamps', 1), ('Commercial Food Preparation Equipment', 2), ('Bag Sealers', 1), ('Computer Paper', 1), ('Single Ear Bluetooth Headsets', 2), ('Chefs Knives', 1), ('Airlocks', 1), ('Lantern Accessories', 1), ('Dried Figs', 1), ('Grooving Inserts', 1), ('Incense Holders', 1), ('Multipurpose Bathroom Cleaners', 2), ('Holders', 1), ('Faucet Valves', 1), ('Home Digital Pianos', 1), ('Electronic Keyboards', 1), ('Picks', 1), ('Solar Battery Chargers & Charging Kits', 1), ('Spare & Replacement Parts', 1), ('Shampoos Plus Conditioners', 1), ('Feed Necks', 1), ('Lab Chemicals', 1), ('Backpacking Stoves', 1), ('Optical Drives', 1), ('Powered Toothbrushes', 1), ('Shrubs', 1), ('Toilet Flappers', 1), ('Pants Hangers', 1), ('Rotary Floor Brushes & Pad Drivers', 1), ('Menu Covers', 1), ('Protective Shields', 1), ('Free Standing Shoe Racks', 1), ('Correction Tape', 1), ('Power-Distribution Components', 1), ('Glow Plug Kits', 1), ('Yarn Needles', 2), ('Playground Balls', 1), ('Stuff Sacks', 1), ('Decals & Bumper Stickers', 2), ('Sphygmomanometers', 1), ('Feeder Accessories', 1), ('Ball Casters', 1), ('Electronic Pads', 2), ('Compressor Refrigerant Pressure', 1), ('Unpopped', 1), ('SLR Camera Lenses', 1), ('Treatment Packages', 1), ('Control & Power Supplies', 1), ('Booms & Stands', 1), ('Wash Bottles', 1), ('Bubble Wrap Dispensers', 2), ('Stevia', 1), ('Accelerator Cables', 1), ('Safety Clips', 1), ('Wind Sculptures & Spinners', 1), ('Bath Accessories', 1), ('Bubble Wrap', 3), ('Surveillance Video Recorders', 2), ('Food Bars', 1), ('Needle Holders', 1), ('Gun Holders', 1), ('Consoles', 1), ('Breaded Mozzarella & Vegetables', 1), ('Paper Craft Tools', 1), ('Cummerbunds', 1), ('Sega Saturn', 1), ('LED Lamps', 1), ('Litter Box Liners', 1), ('Urinals', 1), ('Carpet Deodorizers', 1), ('Greek Seasoning', 1), ('Whistles', 1), ('Drain Plug', 1), ('Nonprogrammable', 1), ('Travel Duffels', 1), ('Hand Creams & Lotions', 2), ('Shrimp & Prawns', 1), ('Clawfoot Bathtubs', 1), ('Icing & Decorating Spatulas', 1), ('Vinyl Flooring', 1), ('Diagnostics & Screening', 2), ('Laboratory Diagnostics', 2), ('Chair Arms', 1), ('Screw Guns', 1), ('Cushions', 1), ('Knife Block Sets', 1), ('Burners & Heaters', 1), ('Mattress Protectors', 1), ('Cage Traps', 1), ('Mitts', 1), ('Flea & Tick Collars', 1), ('Instant Coffee', 1), ('Outdoor Hanging Brackets', 1), ('Rash Guard Sets', 1), ('Kick-Down', 1), ('Transmission & Parts', 1), ('Hair Sprays', 1), ('Caliper Pistons', 1), ('One-Piece Toilets', 1), ('Silicone Caulk', 1), ('Bit Holders', 1), ('Respiratory Aids & Accessories', 1), ('Backcountry Equipment', 2), ('Peeled', 1), ('Coffee Urns', 1), ('Masonry Nails', 1), ('Pastes', 1), ('Oral Hygiene & Preventive Care', 1), ('Spring Retainers', 1), ('Flatware & Utensil Storage', 1), ('Raised Toilet Seats', 1), ('Stir-Fry Sauce', 1), ('Dental Grills', 2), ('Furniture Pads', 1), ('Candle Lamps', 1), ('SIM Card Tools & Accessories', 1), ('Carabiners & Quickdraws', 1), ('Oscilloscopes', 1), ('Surveillance DVR Kits', 1), ('Golf Cart', 2), ('Lamp Finials', 1), ('Drywall Stilts', 1), ('Replacement Wheels', 1), ('Crates & Kennels', 1), ('Bread & Loaf Pans', 1), ('Kids Backpacks', 1), ('Flints & Wicks', 2), ('High Temperature Tape', 1), ('Trailer Lights', 1), ('Handheld Filters', 1), ('Geometry Sets', 1), ('Measuring Tools & Scales', 1), ('Combustion Engines & Parts', 1), ('In-Home Composting Bins', 1), ('End Tab Classification Folders', 1), ('Patch Cables', 1), ('Desserts', 1), ('Spark Arrestors', 1), ('Bedside Commode Liners', 1), ('Trumpet', 1), ('Macro & Ringlight Flashes', 1), ('Hats', 1), ('American Pattern Files', 1), ('Barbecue Seasoning', 1), ('Stereo Shelf Systems', 1), ('Fuel System Parts', 1), ('Toilet Wax Rings', 1), ('Luggage Racks', 2), ('Street Motorcycle', 1), ('Loveseats', 1), ('Moving Blankets', 1), ('Tripods & Monopods', 1), ('Shelf Liners & Dividers', 2), ('Food Pans', 1), ('Rear Projection TV Replacement Lamps', 1), ('Sales & Deals', 1), ('Anesthesia Labels', 1), ('Longboards', 1), ('Y Strainers', 1), ('Prebiotics', 1), ('Wind & Woodwinds', 1), ('Dampers', 1), ('Transmissions & Parts', 1), ('Covers & Sets', 1), ('Duvets', 1), ('Axle', 2), ('Magnifying Tools', 1), ('Track Pants', 1), ('Shrugs', 1), ('Vitamins & Minerals', 1), ('Boats & Airplanes', 1), ('Hex Keys', 1), ('Pliers', 1), ('Address Signs', 1), ('Oven Parts & Accessories', 1), ('Dish Soap', 1), ('Buttons & Pins', 1), ('Body Hammers & Dollies', 1), ('Drop Cloths & Plastic Sheeting', 1), ('Fluorocarbon Line', 1), ('Buffing Wheels', 1), ('Scale & Balance Accessories', 1), ('Septic Treatments', 1), ('CD & Tape Players', 1), ('French', 1), ('Coolant Temperature', 2), ('Oil Level', 1), ('Gongs', 1), ('Gutters', 1), ('Memory Stick Cards', 1), ('Die-Cast Vehicles', 2), ('Engine Tools', 1), ('Hobo Bags', 2), ('Sending Units & Cables', 1), ('Organ Accessories', 1), ('Lab Refrigeration Equipment', 1), ('Accelerator Pedal', 1), ('Attacker Shafts', 1), ('Exhaust Systems', 1), ('Cake', 1), ('Pie & Pastry Servers', 1), ('Bean Bag Game Sets', 1), ('Track Bars', 1), ('Isolation Transformers', 1), ('Martini Glasses', 1), ('Wheel Studs', 1), ('Digestive Remedies', 1), ('Snow Chains', 1), ('Jumps', 1), ('Gears', 1), ('Repellent Mats', 1), ('Presser Feet', 1), ('Fondant & Gum Paste Molds', 1), ('Batter Dispensers', 1), ('Pre-Stretched Canvas', 1), ('Sitz Baths', 1), ('Bouldering & Wall Equipment', 1), ('Braille Aids', 1), ('Lard', 1), ('Bushing Kits', 1), ('Reusable Bags', 1), ('Composting & Yard Waste Bins', 1), ('Tunnels', 1), ('USB Hubs', 1), ('Mounted Bearings', 1), ('Securing Straps', 2), ('Transaxle', 1), ('Under-Cabinet Mounting Accessories', 2), ('Money Management & Budgeting', 1), ('Hand Fuel Pumps', 1), ('Computers & Tablets', 1), ('Figs', 1), ('B7 (Biotin)', 1), ('Hearts of Palm', 1), ('Military Vehicles', 1), ('Cough Drops', 1), ('Wheel Weights', 1), ('Barometers', 1), ('Kickballs', 1), ('Vehicle Scale Accessories', 1), ('Hand Edgers', 1), ('Binder Pockets', 1), ('Table Tennis Conversion Tops', 1), ('Cans & Cases', 1), ('Ammunition & Magazine Boxes', 1), ('Trombone', 1), ('Rolling Pins', 1), ('Cam & Groove Fittings', 1), ('Towing & Trailer Lighting', 1), ('Electric Shavers', 2), ('Socket & Socket Wrench Sets', 1), ('Light Parts & Bulbs', 1), ('Night Vision Binoculars & Goggles', 1), ('Carports', 1), ('Cargo Carriers', 1), ('Serums', 1), ('Tick Remover Tools', 1), ('Footbags', 1), ('Roller Derby Skates', 1), ('Combs & Needles', 2), ('Craft Foam', 1), ('Sanding Sponges', 1), ('Weight Building Supplements', 1), ('Check Registers', 1), ('Flap Discs', 1), ('Microphone Cables', 1), ('Plush Toy & Blanket Sets', 1), ('Applesauce', 1), ('Mounts & Adapters', 1), ('Fitness Trampolines', 1), ('Pool & Spa Replacement Parts', 1), ('Kickball & Playground Balls', 1), ('Rice', 2), ('Filters & Straining', 1), ('Eyeshadow', 1), ('Carts', 1), ('Stools', 1), ('Graph Paper', 1), ('Lip Plumping Devices', 1), ('Orifice Tubes', 1), ('Yogurt Makers', 1), ('Spreads', 1), ('Plant Labels', 1), ('Rib Protectors', 1), ('Butter Dishes', 1), ('Downspouts', 1), ('Hair & Beard Covers', 1), ('Sheets & Pillowcases', 1), ('Propellers', 1), ('Construction Staplers', 1), ('Red Wine', 1), ('Batteries & Battery Chargers', 1), ('Pillows & Pillow Covers', 1), ('Sculptures', 1), ('Braisers', 1), ('Box Mailers', 2), ('Kidney Beans', 1), ('Drill Presses', 1), ('Decorative Urns', 1), ('AA', 1), ('Staple Removers', 1), ('LED Segment Displays', 1), ('Wands', 1), ('Bar Soaps', 1), ('Leathercraft Accessories', 1), ('Tack Care & Storage', 1), ('Zesters', 1), ('Bath & Body Brushes', 1), ('Spring Bushings', 1), ('Stroller Fans', 1), ('Udu Drums', 1), ('Deep Fryers', 2), ('Play Food', 1), ('Foreign Language Materials', 1), ('Thermostat Water Outlets', 1), ('Bed Risers', 1), ('Liquid Bandages', 1), ('Wire Rope Sleeves', 1), ('Battery Jumper Cables', 1), ('Medical Electrodes', 1), ('Coffee Mugs', 1), ('Connectors', 2), ('Swim Diapers', 1), ('Cummerbunds & Pocket Squares', 1), ('Ties', 1), ('Shelf Baskets', 1), ('Rain Covers', 1), ('Sewer Chemicals & Cleaners', 1), ('Lathe Parts & Accessories', 1), ('Shaving Lotions', 1), ('Cam Bearings', 1), ('Pen Refills', 1), ('Industrial Scales', 1), ('Keyed Padlocks', 1), ('Shrink Wrappers', 1), ('Latch Hook Supplies', 1), ('Bridal Sets', 1), ('Tennis Equipment', 1), ('Location & Activity Trackers', 1), ('LCD Graphic Displays', 1), ('Top-Handle Bags', 1), ('Valances', 1), ('Hubs & Controllers', 1), ('Body Chains', 1), ('Geography Materials', 1), ('Furniture Legs', 1), ('Waxing Kits', 1), ('Safety Belts & Harnesses', 1), ('Installer Drill Bits', 1), ('Mounted Tambourines', 1), ('Personal Groomers', 1), ('Silent Chains', 1), ('Diving Weights & Belts', 1), ('Health Care & Food Service', 1), ('Snack Gifts', 1), ('Rear Window Defogger', 1), ('Pipe Fittings', 2), ('Alfalfa', 1), ('U-Bolt Kits', 1), ('Activity & Entertainment', 1), ('Mantel Clocks', 1), ('Stick Umbrellas', 1), ('A', 1), ('C & Ventilation', 1), ('Barrels', 1), ('Lab Pumps & Accessories', 1), ('Seat Liners', 1), ('Kitchen & Bar Sinks', 1), ('Double Bowl', 1), ('Coverlets & Sets', 1), ('Bedspreads', 1), ('Recorders', 1), ('Jaw Pullers', 1), ('Sinus Medicine', 1), ('Decongestant Sprays', 1), ('String Lines', 1), ('Chainsaw Parts & Accessories', 1), ('Needles', 1), ('Mechanical Fuel Pumps', 1), ('Sway Parts', 1), ('Main Shaft', 1), ('Goggles & Lenses', 1), ('Faucet Index Buttons', 1), ('Air Compressor Replacement Parts', 1), ('Electrical Tape', 1), ('Ground Pepper', 1), ('Snare Drum Stands', 1), ('Tea Samplers', 1), ('Tattoo Machines', 1), ('Special Occasion', 2), ('Toilet Flush Valves', 1), ('Alnico Magnets', 1), ('Fitness & Cross-Training', 1), ('Carpet Cleaning Machine Accessories', 1), ('Foot Massagers', 1), ('Mushrooms & Truffles', 1), ('Food Grinders & Mills', 1), ('Piercing Jewelry', 1), ('Waist Cinchers', 1), ('Hex Nuts', 2), ('Chinese Star Anise', 1), ('Drain Pouches', 1), ('Trailer Steps', 1), ('ID Cases', 1), ('Knitting & Crochet Notions', 1), ('Potpourris', 1), ('Speaker Mounts', 1), ('Oscilloscopes & Accessories', 1), ('Casseroles', 1), ('Distribution Panels', 1), ('RAID Controllers', 1), ('Decks & Sets', 1), ('Watch Winders', 1), ('Chair Pads', 1), ('Grill Pans', 1), ('Cheese Plates', 1), ('Thigh Slimmers', 1), ('Drum Keys & Wrenches', 1), ('Micro Switches', 1), ('Outdoor Furniture', 1), ('Electronics & Gadgets', 1), ('Convection Ovens', 1), ('Cheddar', 1), ('Lumbar Pillows', 1), ('Bathroom Storage & Organization', 1), ('Angle', 1), ('Congas', 1), ('Commercial Toilet Seat Cover Dispensers', 1), ('Pine Tar', 1), ('Inserts & Liners', 1), ('Safety Razors', 1), ('Lead', 1), ('Looping & Remixing', 1), ('Tuxedos', 2), ('Mats', 1), ('Valve Covers', 1), ('Shop Tools', 1), ('Bridles & Accessories', 1), ('Live Centers', 1), ('Salad Toppings', 1), ('Kosher Salt', 1), ('Bonito Flakes', 1), ('Furniture Collections', 1), ('Cocktail Napkins', 2), ('Colloidal Silver', 1), ('Minis', 1), ('PlayStation', 1), ('Cheese Markers', 1), ('Mirror', 1), ('Coil Packs', 1), ('Dining Tables', 2), ('Label Holders', 1), ('Bakeware & Tools', 2), ('Barrettes', 1), ('Tile Games', 1), ('Hole', 1), ('Stairs & Steps', 1), ('Travel & To-Go Drinkware', 1), ('Bubble Bath', 1), ('Light Therapy', 1), ('Moisturizing Sprays', 1), ('Aircraft', 1), ('Forstner Drill Bits', 1), ('Scents & Scent Eliminators', 1), ('Sissy Bars', 1), ('Patient Treatment Equipment', 1), ('Manometers', 1), ('Rails & Rail Guards', 2), ('Coatings', 1), ('Spiral', 1), ('Saddle Blankets & Pads', 1), ('Grilling Pellets', 1), ('Cocoa', 1), ('Dried Seaweed & Nori', 1), ('Journals & Notebooks', 1), ('Diaries', 1), ('Hood Release Cables', 2), ('Lab Scissors', 1), ('AIR Pipes', 1), ('Gasket Makers', 1), ('Stretchers & Gurneys', 1), ('Tool Sets', 1), ('Ice Cream', 1), ('Union Suits', 1), ('Drive Shaft Assemblies', 1), ('Accessory Power', 1), ('Banjo Accessories', 1), ('Cold Cereals', 1), ('Perches', 1), ('Amino Acids', 2), ('Caster Boards', 1), ('Handheld Mirrors', 1), ('TIG Welding Equipment', 1), ('Topical Antimicrobials', 1), ('Suet', 1), ('Assembly & Disentanglement Puzzles', 1), ('Beach Toys', 1), ('Jackets & Pants', 1), ('Tracksuits', 1), ('Wings & Styling Kits', 1), ('Spoilers', 2), ('Taping Knives', 1), ('Salts & Soaks', 1), ('Grill Presses & Irons', 1), ('Rollers', 1), ('Contact Cements', 1), ('Brad-Point Drill Bits', 1), ('Adhesive Removers', 1), ('Wedding Rings', 1), ('Tripod Mount Rings', 1), ('Pudding', 1), ('Garment Steamers', 1), ('Irrigation Tubing', 1), ('Geiger Counters', 1), ('Sample Injection Syringes', 2), ('Canola', 1), ('Blu-ray Players & Recorders', 1), ('Headphone & In-Ear Audio Monitors', 1), ('Wallpaper & Wallpapering Supplies', 1), ('Lab Flasks', 1), ('Electric Burr Grinders', 1), ('Threaded-to-Barbed Fittings', 1), ('Moisturizing Socks', 1), ('Inorganic Reagents', 1), ('Scoreboards & Timers', 1), ('Aerosol Adhesives', 1), ('Back Scratchers', 1), ('Checkbook Covers', 1), ('Tees & Shirts', 1), ('Fire Pit Covers', 1), ('Game & Trail Cameras', 1), ('Zinc', 1), ('Storage', 1), ('Stretch Film', 1), ('Pogo Sticks', 1), ('Ramekins', 1), ('Holiday Light Storage', 1), ('Yokes', 1), ('Pump & Motor Assemblies', 1), ('Kitchen Storage & Organization Accessories', 1), ('Boring Drill Bits', 3), ('Wheel Hubs', 1), ('Multiminerals', 1), ('Handheld Planers', 1), ('Nail Glue', 1), ('Racquetball', 1), ('Role Playing Dice', 1), ('All-Season', 1), ('Expansion Valves', 1), ('Cupolas & Accessories', 1), ('Starter Packs', 1), ('Thymus Extracts', 1), ('Toothbrushes', 1), ('Liver Extracts', 1), ('CV (Constant Velocity)', 1), ('Megaphones', 1), ('Hair Rollers', 1), ('Tambourines', 1), ('Superchargers', 1), ('Weapon Cases', 1), ('Tool Chests & Cabinets', 2), ('Waste Baskets', 1), ('Rubber Bands', 1), ('Teeter Totters', 1), ('Comforters & Sets', 1), ('Drill Chucks', 1), ('Wire Terminals', 1), ('Floor & Carpet Cleaning Supplies', 1), ('Standard Pencil Erasers', 1), ('Coolant Level', 1), ('Infrared Thermometers', 1), ('Marker Parts & Upgrades', 1), ('Treadmill Lubricants', 1), ('Golf Carts', 1), ('Dryers & Cleaners', 1), ('Long Stem Funnels', 1), ('Furnace Parts & Accessories', 1), ('Longeing Equipment', 1), ('Dispensers', 1), ('Core Cases', 1), ('Hand Sewing Needles', 1), ('Shampoos & Conditioners', 1), ('Subwoofers', 1), ('Basic Collars', 1), ('Power Dental Flossers', 1), ('Taper Candles', 1), ('Turn Signal', 1), ('Carpet Steamer Accessories', 1), ('Coin & Button Cell', 1), ('Furniture Cups', 1), ('Braids', 1), ('Electronic Dictionaries', 1), ('Thesauri & Translators', 1), ('Cooling & Water Pump Tools', 1), ('Pool Algaecides', 1), ('Extracts & Flavoring', 1), ('Patient Gowns & Robes', 1), ('Die-Cuts', 1), ('Stage Speaker Stands', 2), ('Beer Brewing Recipe Kits', 1), ('Science & Lab Tables', 1), ('Spheres', 1), ('Hand Lotions', 1), ('Fans & Cooling', 1), ('Roller Skate Parts', 1), ('Controlled Environment Disposable Apparel', 1), ('Cake Pans', 1), ('Soccer Equipment', 1), ('Raisin', 1), ('Jar Openers', 1), ('Medicine Cabinets', 1), ('Seats & Sissy Bars', 1), ('Interior & Closet Doors', 1), ('Rope Lights', 1), ('Scrubs & Body Treatments', 1), ('Rectal', 1), ('Scalpels & Lancets', 1), ('Docking Stations', 2), ('Diaper Stackers & Caddies', 2), ('Carry-Ons', 1), ('Grilling Charcoal', 1), ('Undershirts', 1), ('Relief Valves', 1), ('Sealers', 1), ('Roller Covers', 1), ('Safety Glasses', 1), ('First Basemans Mitts', 1), ('Bulk Envelope Mailers', 1), ('Buffalo Wing', 1), ('Cloths', 1), ('Safety & Flotation Devices', 1), ('Rye', 1), ('Nintendo 64', 1), ('Paintings', 1), ('Straight Razors', 2), ('Pots & Sets', 1), ('Packaging Tape Dispensers', 1), ('Summer', 1), ('Colored Pencils', 1), ('Tunics', 1), ('Wing Corkscrews', 1), ('Stack & Guillotine Trimmers', 1), ('Spark Plug & Ignition Tools', 1), ('Concession Food Preparation Equipment', 1), ('Package Drop Boxes & Lockers', 1), ('Freshwater Tanks & Inlets', 1), ('Drop & Dangle', 1), ('Instant-Read', 1), ('Frosting', 1), ('Icing & Decorations', 1), ('Facemasks', 1), ('Laps & Hones', 1), ('Rolling Walkers', 1), ('Lighting Components', 1), ('Faucet Seat & Spring Sets', 1), ('Cassettes & Freewheels', 1), ('Gags & Muzzles', 1), ('Standard Flights', 1), ('Time Card Racks', 1), ('Artificial Shrubs', 1), ('Step-Up Rings', 1), ('B2 (Riboflavin)', 1), ('Intercoolers', 1), ('Training Gloves', 1), ('Ground Fault Circuit Interrupters', 1), ('Spray Repellents', 1), ('Salad Bowls', 1), ('Condiment Squeeze Bottles', 1), ('Fight Gloves', 1), ('Bike Pumps', 1), ('Hole Punches', 1), ('Unstrung', 1), ('Laundry', 1), ('Cross-Body Bags', 1), ('Elderberry', 1), ('Thread Forming Taps', 1), ('Audio-Video Shelving', 1), ('Snap Plug', 1), ('Router Fences', 1), ('Privacy', 1), ('Battery Storage Containers', 1), ('Food Dispensers', 1), ('License Plate Covers & Frames', 1), ('Paintballs', 1), ('Shower Squeegees', 1), ('Badge Inserts', 1), ('Feminine Care', 1), ('Safety Masks', 1), ('Vehicle Mounts', 1), ('Duvet Covers', 2), ('Cornichons', 1), ('Champagne Glasses', 1), ('Front-End Covers', 1), ('Wine Making Starter Sets', 1), ('Fruit', 1), ('Toilet Tissue Aids', 1), ('Earring Backs & Findings', 1), ('Roll Pans', 1), ('Snatch', 1), ('Tattoo Kits', 1), ('7-Keto', 1), ('Mists & Hydrosols', 1), ('Game Accessories', 1), ('Differential Covers', 1), ('Commercial Truck', 1), ('Quick Connect Fittings', 1), ('Jump Starters', 1), ('Battery Chargers & Portable Power', 1), ('Portable', 1), ('Leather Cleaners & Conditioners', 1), ('After Shaves', 1), ('Play & Swing Sets', 1), ('Off-Road', 1), ('Tire Chains', 1), ('Bridal Veils', 1), ('Pendant Enhancers', 1), ('Digital Coaxial Cables', 1), ('Skooters & Skorts', 1), ('Paint Rollers', 1), ('Padlocks & Hasps', 1), ('Coils', 1), ('Frames & Accessories', 1), ('Brake Parts', 1), ('Pipe Clamps', 1), ('Bellows', 1), ('Pencil Sharpeners', 1), ('Bottle Components', 1), ('Box Wrenches', 1), ('Vertical File Cabinets', 1), ('Tub Tea', 1), ('Sprinkles', 1), ('Rocker Arms', 1), ('Drug Tests', 1), ('Choke Thermostats', 1), ('Garden Twine & Twist Ties', 1), ('Foam Wedges', 1), ('Front Derailleurs', 1), ('Grill Valves', 1), ('Hard Parts', 1), ('Lithium', 1), ('Hanging Folders & Interior Folders', 1), ('Paint Scrapers', 1), ('Copper', 1), ('Disposable Razors', 1), ('PC Maintenance', 1), ('Video Converters', 1), ('Chef Jackets', 1), ('Spray Paint', 1), ('Bathing Tubs & Seats', 1), ('Tarts', 1), ('Pressure Plates', 1), ('Vinyl Wraps & Accessories', 1), ('Calipers With Pads', 1), ('Calipers & Parts', 1), ('Reception Room Tables', 1), ('Active Dresses', 1), ('Cycling Electronics', 1), ('Bumper Guards', 1), ('Pant Sets', 1), ('Bodystockings', 1), ('Coasters', 1), ('Door Chimes & Bells', 1), ('Electrical Safety', 1), ('Bill Counters', 1), ('Kegs & Kegging', 1), ('Mitt Lace', 1), ('Eau de Toilette', 1), ('Steak Knives', 1), ('Preamps', 1), ('Crab', 1), ('Parchment', 1), ('Lycopene', 1), ('Hooks & Hangers', 1), ('Caliper Bolts & Pins', 1), ('Snickerdoodles', 1), ('Personal Cleansing Wipes', 1), ('Adaptive Straws', 1), ('China Markers', 1), ('Classroom Decorations', 1), ('Back Protectors', 1), ('Door Knobs', 1), ('Cutters', 1), ('Shafts', 1), ('Mailbox Accessories', 1), ('Magnetic Circuit Breakers', 1), ('Fletches', 1), ('Spanish & Mexican', 1), ('Stoves & Grills', 1), ('Toasters', 1), ('Tiered Trays & Platters', 1), ('Calibration Weights', 1), ('Steering Knuckles', 1), ('Tap Dancing Equipment', 1), ('Skateboards', 1), ('Taekwondo', 1), ('Boxed Knife Sets', 1), ('Step Machines', 1), ('Dried Dates', 1), ('Mirrors & Parts', 1), ('Air Compressors & Inflators', 1), ('Radial Ball Bearings', 1), ('Distributor Modulator', 1), ('Planning Boards', 1), ('Bolts & Nuts', 1)])"
      ]
     },
     "metadata": {},
     "execution_count": 19
    }
   ],
   "source": [
    "category_list.items()"
   ]
  },
  {
   "cell_type": "code",
   "execution_count": 20,
   "metadata": {},
   "outputs": [
    {
     "output_type": "execute_result",
     "data": {
      "text/plain": [
       "                     category  frequency\n",
       "0        Mandolines & Slicers          1\n",
       "1            Kitchen & Dining        447\n",
       "2  Kitchen Utensils & Gadgets         83\n",
       "3           Peelers & Slicers          2\n",
       "4                     Graters          2"
      ],
      "text/html": "<div>\n<style scoped>\n    .dataframe tbody tr th:only-of-type {\n        vertical-align: middle;\n    }\n\n    .dataframe tbody tr th {\n        vertical-align: top;\n    }\n\n    .dataframe thead th {\n        text-align: right;\n    }\n</style>\n<table border=\"1\" class=\"dataframe\">\n  <thead>\n    <tr style=\"text-align: right;\">\n      <th></th>\n      <th>category</th>\n      <th>frequency</th>\n    </tr>\n  </thead>\n  <tbody>\n    <tr>\n      <th>0</th>\n      <td>Mandolines &amp; Slicers</td>\n      <td>1</td>\n    </tr>\n    <tr>\n      <th>1</th>\n      <td>Kitchen &amp; Dining</td>\n      <td>447</td>\n    </tr>\n    <tr>\n      <th>2</th>\n      <td>Kitchen Utensils &amp; Gadgets</td>\n      <td>83</td>\n    </tr>\n    <tr>\n      <th>3</th>\n      <td>Peelers &amp; Slicers</td>\n      <td>2</td>\n    </tr>\n    <tr>\n      <th>4</th>\n      <td>Graters</td>\n      <td>2</td>\n    </tr>\n  </tbody>\n</table>\n</div>"
     },
     "metadata": {},
     "execution_count": 20
    }
   ],
   "source": [
    "category_df = pd.DataFrame.from_dict(category_list.items())\n",
    "category_df.columns = ['category', 'frequency']\n",
    "category_df.head()"
   ]
  },
  {
   "cell_type": "code",
   "execution_count": 21,
   "metadata": {},
   "outputs": [
    {
     "output_type": "stream",
     "name": "stdout",
     "text": [
      "<class 'pandas.core.frame.DataFrame'>\nRangeIndex: 6656 entries, 0 to 6655\nData columns (total 2 columns):\n #   Column     Non-Null Count  Dtype \n---  ------     --------------  ----- \n 0   category   6656 non-null   object\n 1   frequency  6656 non-null   int64 \ndtypes: int64(1), object(1)\nmemory usage: 104.1+ KB\n"
     ]
    }
   ],
   "source": [
    "category_df.info()"
   ]
  },
  {
   "cell_type": "code",
   "execution_count": 35,
   "metadata": {},
   "outputs": [
    {
     "output_type": "execute_result",
     "data": {
      "text/plain": [
       "                     category  frequency  avg_rating\n",
       "0           Sports & Outdoors       1390         NaN\n",
       "1                    Clothing       1358         NaN\n",
       "2             Shoes & Jewelry       1111         NaN\n",
       "3                  Automotive       1109         NaN\n",
       "4     Industrial & Scientific        886         NaN\n",
       "...                       ...        ...         ...\n",
       "6651             Ginger Snaps          1         NaN\n",
       "6652       Motion Controllers          1         NaN\n",
       "6653          Umbrella Lights          1         NaN\n",
       "6654            Fruit Leather          1         NaN\n",
       "6655             Bolts & Nuts          1         NaN\n",
       "\n",
       "[6656 rows x 3 columns]"
      ],
      "text/html": "<div>\n<style scoped>\n    .dataframe tbody tr th:only-of-type {\n        vertical-align: middle;\n    }\n\n    .dataframe tbody tr th {\n        vertical-align: top;\n    }\n\n    .dataframe thead th {\n        text-align: right;\n    }\n</style>\n<table border=\"1\" class=\"dataframe\">\n  <thead>\n    <tr style=\"text-align: right;\">\n      <th></th>\n      <th>category</th>\n      <th>frequency</th>\n      <th>avg_rating</th>\n    </tr>\n  </thead>\n  <tbody>\n    <tr>\n      <th>0</th>\n      <td>Sports &amp; Outdoors</td>\n      <td>1390</td>\n      <td>NaN</td>\n    </tr>\n    <tr>\n      <th>1</th>\n      <td>Clothing</td>\n      <td>1358</td>\n      <td>NaN</td>\n    </tr>\n    <tr>\n      <th>2</th>\n      <td>Shoes &amp; Jewelry</td>\n      <td>1111</td>\n      <td>NaN</td>\n    </tr>\n    <tr>\n      <th>3</th>\n      <td>Automotive</td>\n      <td>1109</td>\n      <td>NaN</td>\n    </tr>\n    <tr>\n      <th>4</th>\n      <td>Industrial &amp; Scientific</td>\n      <td>886</td>\n      <td>NaN</td>\n    </tr>\n    <tr>\n      <th>...</th>\n      <td>...</td>\n      <td>...</td>\n      <td>...</td>\n    </tr>\n    <tr>\n      <th>6651</th>\n      <td>Ginger Snaps</td>\n      <td>1</td>\n      <td>NaN</td>\n    </tr>\n    <tr>\n      <th>6652</th>\n      <td>Motion Controllers</td>\n      <td>1</td>\n      <td>NaN</td>\n    </tr>\n    <tr>\n      <th>6653</th>\n      <td>Umbrella Lights</td>\n      <td>1</td>\n      <td>NaN</td>\n    </tr>\n    <tr>\n      <th>6654</th>\n      <td>Fruit Leather</td>\n      <td>1</td>\n      <td>NaN</td>\n    </tr>\n    <tr>\n      <th>6655</th>\n      <td>Bolts &amp; Nuts</td>\n      <td>1</td>\n      <td>NaN</td>\n    </tr>\n  </tbody>\n</table>\n<p>6656 rows × 3 columns</p>\n</div>"
     },
     "metadata": {},
     "execution_count": 35
    }
   ],
   "source": [
    "category_df.sort_values('frequency', ascending = False, inplace = True, ignore_index = True)\n",
    "category_df"
   ]
  },
  {
   "source": [
    "## Top Categories"
   ],
   "cell_type": "markdown",
   "metadata": {}
  },
  {
   "cell_type": "code",
   "execution_count": 36,
   "metadata": {},
   "outputs": [
    {
     "output_type": "stream",
     "name": "stdout",
     "text": [
      "['Sports & Outdoors' 'Clothing' 'Shoes & Jewelry' 'Automotive'\n 'Industrial & Scientific']\n"
     ]
    }
   ],
   "source": [
    "print(category_df['category'].values[0:5])"
   ]
  },
  {
   "source": [
    "## Average Review by Category"
   ],
   "cell_type": "markdown",
   "metadata": {}
  },
  {
   "cell_type": "code",
   "execution_count": 37,
   "metadata": {},
   "outputs": [
    {
     "output_type": "execute_result",
     "data": {
      "text/plain": [
       "False"
      ]
     },
     "metadata": {},
     "execution_count": 37
    }
   ],
   "source": [
    "'Graters' in amazon_data['clean_category'] "
   ]
  },
  {
   "cell_type": "code",
   "execution_count": 38,
   "metadata": {},
   "outputs": [
    {
     "output_type": "execute_result",
     "data": {
      "text/plain": [
       "0        True\n",
       "1       False\n",
       "2       False\n",
       "3       False\n",
       "4       False\n",
       "        ...  \n",
       "9967    False\n",
       "9968    False\n",
       "9969    False\n",
       "9970    False\n",
       "9971    False\n",
       "Name: clean_category, Length: 9972, dtype: bool"
      ]
     },
     "metadata": {},
     "execution_count": 38
    }
   ],
   "source": [
    "amazon_data['clean_category'].apply(lambda x: 'Graters' in x)"
   ]
  },
  {
   "cell_type": "code",
   "execution_count": 39,
   "metadata": {},
   "outputs": [
    {
     "output_type": "execute_result",
     "data": {
      "text/plain": [
       "3.6"
      ]
     },
     "metadata": {},
     "execution_count": 39
    }
   ],
   "source": [
    "amazon_data[amazon_data['clean_category'].apply(lambda x: 'Graters' in x)]['rating'].mean()"
   ]
  },
  {
   "cell_type": "code",
   "execution_count": 42,
   "metadata": {},
   "outputs": [
    {
     "output_type": "execute_result",
     "data": {
      "text/plain": [
       "array(['Sports & Outdoors', 'Clothing', 'Shoes & Jewelry', ...,\n",
       "       'Umbrella Lights', 'Fruit Leather', 'Bolts & Nuts'], dtype=object)"
      ]
     },
     "metadata": {},
     "execution_count": 42
    }
   ],
   "source": [
    "category_df['category'].values"
   ]
  },
  {
   "cell_type": "code",
   "execution_count": 43,
   "metadata": {},
   "outputs": [
    {
     "output_type": "execute_result",
     "data": {
      "text/plain": [
       "RangeIndex(start=0, stop=6656, step=1)"
      ]
     },
     "metadata": {},
     "execution_count": 43
    }
   ],
   "source": [
    "category_df.index"
   ]
  },
  {
   "cell_type": "code",
   "execution_count": 44,
   "metadata": {},
   "outputs": [
    {
     "output_type": "execute_result",
     "data": {
      "text/plain": [
       "category      Sports & Outdoors\n",
       "frequency                  1390\n",
       "avg_rating                  NaN\n",
       "Name: 0, dtype: object"
      ]
     },
     "metadata": {},
     "execution_count": 44
    }
   ],
   "source": [
    "category_df.iloc[0]"
   ]
  },
  {
   "cell_type": "code",
   "execution_count": 54,
   "metadata": {},
   "outputs": [],
   "source": [
    "for i in category_df.index:\n",
    "    row = category_df.loc[i]\n",
    "    category = row['category']\n",
    "    contains_category = amazon_data['clean_category'].apply(lambda x: category in x)\n",
    "   \n",
    "    category_df.at[i, 'avg_rating'] =  amazon_data[contains_category]['rating'].mean()"
   ]
  },
  {
   "cell_type": "code",
   "execution_count": 55,
   "metadata": {},
   "outputs": [
    {
     "output_type": "execute_result",
     "data": {
      "text/plain": [
       "                     category  frequency  avg_rating\n",
       "0           Sports & Outdoors       1390    4.376691\n",
       "1                    Clothing       1358    4.347054\n",
       "2             Shoes & Jewelry       1111    4.341404\n",
       "3                  Automotive       1109    4.411903\n",
       "4     Industrial & Scientific        886    4.429684\n",
       "...                       ...        ...         ...\n",
       "6651             Ginger Snaps          1    4.700000\n",
       "6652       Motion Controllers          1    4.500000\n",
       "6653          Umbrella Lights          1    4.400000\n",
       "6654            Fruit Leather          1    4.700000\n",
       "6655             Bolts & Nuts          1    5.000000\n",
       "\n",
       "[6656 rows x 3 columns]"
      ],
      "text/html": "<div>\n<style scoped>\n    .dataframe tbody tr th:only-of-type {\n        vertical-align: middle;\n    }\n\n    .dataframe tbody tr th {\n        vertical-align: top;\n    }\n\n    .dataframe thead th {\n        text-align: right;\n    }\n</style>\n<table border=\"1\" class=\"dataframe\">\n  <thead>\n    <tr style=\"text-align: right;\">\n      <th></th>\n      <th>category</th>\n      <th>frequency</th>\n      <th>avg_rating</th>\n    </tr>\n  </thead>\n  <tbody>\n    <tr>\n      <th>0</th>\n      <td>Sports &amp; Outdoors</td>\n      <td>1390</td>\n      <td>4.376691</td>\n    </tr>\n    <tr>\n      <th>1</th>\n      <td>Clothing</td>\n      <td>1358</td>\n      <td>4.347054</td>\n    </tr>\n    <tr>\n      <th>2</th>\n      <td>Shoes &amp; Jewelry</td>\n      <td>1111</td>\n      <td>4.341404</td>\n    </tr>\n    <tr>\n      <th>3</th>\n      <td>Automotive</td>\n      <td>1109</td>\n      <td>4.411903</td>\n    </tr>\n    <tr>\n      <th>4</th>\n      <td>Industrial &amp; Scientific</td>\n      <td>886</td>\n      <td>4.429684</td>\n    </tr>\n    <tr>\n      <th>...</th>\n      <td>...</td>\n      <td>...</td>\n      <td>...</td>\n    </tr>\n    <tr>\n      <th>6651</th>\n      <td>Ginger Snaps</td>\n      <td>1</td>\n      <td>4.700000</td>\n    </tr>\n    <tr>\n      <th>6652</th>\n      <td>Motion Controllers</td>\n      <td>1</td>\n      <td>4.500000</td>\n    </tr>\n    <tr>\n      <th>6653</th>\n      <td>Umbrella Lights</td>\n      <td>1</td>\n      <td>4.400000</td>\n    </tr>\n    <tr>\n      <th>6654</th>\n      <td>Fruit Leather</td>\n      <td>1</td>\n      <td>4.700000</td>\n    </tr>\n    <tr>\n      <th>6655</th>\n      <td>Bolts &amp; Nuts</td>\n      <td>1</td>\n      <td>5.000000</td>\n    </tr>\n  </tbody>\n</table>\n<p>6656 rows × 3 columns</p>\n</div>"
     },
     "metadata": {},
     "execution_count": 55
    }
   ],
   "source": [
    "category_df"
   ]
  },
  {
   "source": [
    "## Average value for any variable by category"
   ],
   "cell_type": "markdown",
   "metadata": {}
  },
  {
   "cell_type": "code",
   "execution_count": 60,
   "metadata": {},
   "outputs": [],
   "source": [
    "def store_average_value(variable):\n",
    "\n",
    "    for i in category_df.index:\n",
    "        row = category_df.loc[i]        # row in df corresponding to category\n",
    "        category = row['category']      # category name \n",
    "        contains_category = amazon_data['clean_category'].apply(lambda x: category in x)    # does the product fall in the category?\n",
    "    \n",
    "        category_df.at[i, \"avg_\"+variable] =  amazon_data[contains_category][variable].mean()  # if so, average the variable we desire"
   ]
  },
  {
   "cell_type": "code",
   "execution_count": 61,
   "metadata": {},
   "outputs": [],
   "source": [
    "store_average_value(\"price\")"
   ]
  },
  {
   "cell_type": "code",
   "execution_count": 62,
   "metadata": {},
   "outputs": [
    {
     "output_type": "execute_result",
     "data": {
      "text/plain": [
       "                     category  frequency  avg_rating  avg_price\n",
       "0           Sports & Outdoors       1390    4.376691  49.290036\n",
       "1                    Clothing       1358    4.347054  36.191775\n",
       "2             Shoes & Jewelry       1111    4.341404  36.406724\n",
       "3                  Automotive       1109    4.411903  59.004734\n",
       "4     Industrial & Scientific        886    4.429684  54.669944\n",
       "...                       ...        ...         ...        ...\n",
       "6651             Ginger Snaps          1    4.700000  31.020000\n",
       "6652       Motion Controllers          1    4.500000  27.990000\n",
       "6653          Umbrella Lights          1    4.400000  11.490000\n",
       "6654            Fruit Leather          1    4.700000  17.800000\n",
       "6655             Bolts & Nuts          1    5.000000   8.680000\n",
       "\n",
       "[6656 rows x 4 columns]"
      ],
      "text/html": "<div>\n<style scoped>\n    .dataframe tbody tr th:only-of-type {\n        vertical-align: middle;\n    }\n\n    .dataframe tbody tr th {\n        vertical-align: top;\n    }\n\n    .dataframe thead th {\n        text-align: right;\n    }\n</style>\n<table border=\"1\" class=\"dataframe\">\n  <thead>\n    <tr style=\"text-align: right;\">\n      <th></th>\n      <th>category</th>\n      <th>frequency</th>\n      <th>avg_rating</th>\n      <th>avg_price</th>\n    </tr>\n  </thead>\n  <tbody>\n    <tr>\n      <th>0</th>\n      <td>Sports &amp; Outdoors</td>\n      <td>1390</td>\n      <td>4.376691</td>\n      <td>49.290036</td>\n    </tr>\n    <tr>\n      <th>1</th>\n      <td>Clothing</td>\n      <td>1358</td>\n      <td>4.347054</td>\n      <td>36.191775</td>\n    </tr>\n    <tr>\n      <th>2</th>\n      <td>Shoes &amp; Jewelry</td>\n      <td>1111</td>\n      <td>4.341404</td>\n      <td>36.406724</td>\n    </tr>\n    <tr>\n      <th>3</th>\n      <td>Automotive</td>\n      <td>1109</td>\n      <td>4.411903</td>\n      <td>59.004734</td>\n    </tr>\n    <tr>\n      <th>4</th>\n      <td>Industrial &amp; Scientific</td>\n      <td>886</td>\n      <td>4.429684</td>\n      <td>54.669944</td>\n    </tr>\n    <tr>\n      <th>...</th>\n      <td>...</td>\n      <td>...</td>\n      <td>...</td>\n      <td>...</td>\n    </tr>\n    <tr>\n      <th>6651</th>\n      <td>Ginger Snaps</td>\n      <td>1</td>\n      <td>4.700000</td>\n      <td>31.020000</td>\n    </tr>\n    <tr>\n      <th>6652</th>\n      <td>Motion Controllers</td>\n      <td>1</td>\n      <td>4.500000</td>\n      <td>27.990000</td>\n    </tr>\n    <tr>\n      <th>6653</th>\n      <td>Umbrella Lights</td>\n      <td>1</td>\n      <td>4.400000</td>\n      <td>11.490000</td>\n    </tr>\n    <tr>\n      <th>6654</th>\n      <td>Fruit Leather</td>\n      <td>1</td>\n      <td>4.700000</td>\n      <td>17.800000</td>\n    </tr>\n    <tr>\n      <th>6655</th>\n      <td>Bolts &amp; Nuts</td>\n      <td>1</td>\n      <td>5.000000</td>\n      <td>8.680000</td>\n    </tr>\n  </tbody>\n</table>\n<p>6656 rows × 4 columns</p>\n</div>"
     },
     "metadata": {},
     "execution_count": 62
    }
   ],
   "source": [
    "category_df"
   ]
  },
  {
   "cell_type": "code",
   "execution_count": null,
   "metadata": {},
   "outputs": [],
   "source": []
  }
 ]
}